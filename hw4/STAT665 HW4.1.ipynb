{
 "cells": [
  {
   "cell_type": "code",
   "execution_count": 1,
   "metadata": {},
   "outputs": [],
   "source": [
    "import pandas as pd, numpy as np"
   ]
  },
  {
   "cell_type": "code",
   "execution_count": 2,
   "metadata": {},
   "outputs": [],
   "source": [
    "data = np.array([[24, 1355], [35, 603], [21, 192], [30, 224]])\n",
    "data = np.append(data, (data[:,0]/(data[:,0] + data[:,1])).reshape(-1, 1), axis=1)\n",
    "index = [0, 2, 4, 5]"
   ]
  },
  {
   "cell_type": "code",
   "execution_count": 3,
   "metadata": {},
   "outputs": [
    {
     "data": {
      "text/html": [
       "<div>\n",
       "<style>\n",
       "    .dataframe thead tr:only-child th {\n",
       "        text-align: right;\n",
       "    }\n",
       "\n",
       "    .dataframe thead th {\n",
       "        text-align: left;\n",
       "    }\n",
       "\n",
       "    .dataframe tbody tr th {\n",
       "        vertical-align: top;\n",
       "    }\n",
       "</style>\n",
       "<table border=\"1\" class=\"dataframe\">\n",
       "  <thead>\n",
       "    <tr style=\"text-align: right;\">\n",
       "      <th></th>\n",
       "      <th>HD</th>\n",
       "      <th>No HD</th>\n",
       "      <th>HD Proportion</th>\n",
       "    </tr>\n",
       "  </thead>\n",
       "  <tbody>\n",
       "    <tr>\n",
       "      <th>0</th>\n",
       "      <td>24.0</td>\n",
       "      <td>1355.0</td>\n",
       "      <td>0.017404</td>\n",
       "    </tr>\n",
       "    <tr>\n",
       "      <th>2</th>\n",
       "      <td>35.0</td>\n",
       "      <td>603.0</td>\n",
       "      <td>0.054859</td>\n",
       "    </tr>\n",
       "    <tr>\n",
       "      <th>4</th>\n",
       "      <td>21.0</td>\n",
       "      <td>192.0</td>\n",
       "      <td>0.098592</td>\n",
       "    </tr>\n",
       "    <tr>\n",
       "      <th>5</th>\n",
       "      <td>30.0</td>\n",
       "      <td>224.0</td>\n",
       "      <td>0.118110</td>\n",
       "    </tr>\n",
       "  </tbody>\n",
       "</table>\n",
       "</div>"
      ],
      "text/plain": [
       "     HD   No HD  HD Proportion\n",
       "0  24.0  1355.0       0.017404\n",
       "2  35.0   603.0       0.054859\n",
       "4  21.0   192.0       0.098592\n",
       "5  30.0   224.0       0.118110"
      ]
     },
     "execution_count": 3,
     "metadata": {},
     "output_type": "execute_result"
    }
   ],
   "source": [
    "df = pd.DataFrame(data = data, index = index, columns=['HD', 'No HD', 'HD Proportion'])\n",
    "df"
   ]
  },
  {
   "cell_type": "markdown",
   "metadata": {},
   "source": [
    "The Newton-Raphson method can be used to solve logistic regression in accordance with the expression found in (4.45) in the book, $\\boldsymbol{\\beta}^{(t+1)} = \\boldsymbol{\\beta}^{(t)} - \\left(\\boldsymbol{H}^{(t)}\\right)^{-1}\\boldsymbol{u}^{(t)}$."
   ]
  },
  {
   "cell_type": "markdown",
   "metadata": {},
   "source": [
    "For logistic regression, $Y_i \\sim \\text{Bernoulli}(\\pi_i)$, where the link function is \n",
    "$$\\log{\\frac{\\pi(x)}{1-\\pi(x)}} =\\alpha + \\beta x$$ or\n",
    "$$\\pi(x) = \\frac{\\exp{\\alpha + \\beta x}}{1+\\exp{\\alpha + \\beta x}}. $$\n"
   ]
  },
  {
   "cell_type": "markdown",
   "metadata": {},
   "source": [
    "From the Bernoulli mass function $\\pi^y(1-\\pi)^{1-y}$, we derive the log-likelihood function for the parameters given $x_i$ and $y_i$, $i \\in {1, ..., n}$ as \n",
    "\\begin{align}\n",
    "L(\\pi|x_i, y_i) &= \\prod_{i=1}^n \\pi(x_i)^y_i(1-\\pi(x_i))^{1-y_i} \\\\\n",
    "&=\\prod_{i=1}^n (1-\\pi(x_i))\\exp{\\left(y\\log{\\frac{\\pi(x_i)}{1-\\pi(x_i)}}\\right)} \\\\\n",
    "\\mathcal{L}(\\pi|x_i, y_i) &= \\sum_{i=1}^n \\log{\\left(1-\\pi(x_i)\\right)} + y_i\\log{\\left(\\frac{\\pi(x_i)}{1-\\pi(x_i)}\\right)} \\\\\n",
    "\\mathcal{L}(\\alpha, \\beta|x_i, y_i) &= \\sum_{i=1}^n -\\log{\\left(1+\\exp{\\left(\\alpha+\\beta x_i\\right)}\\right)}+y_i(\\alpha+\\beta x_i)\n",
    "\\end{align}"
   ]
  },
  {
   "cell_type": "markdown",
   "metadata": {},
   "source": [
    "There are two parameters in the $\\boldsymbol{\\beta}$ of the Newton-Raphson method, $\\alpha$ and $\\beta$. For these parameters, we derive the gradient vector $$\\boldsymbol{u} = \\left[\\begin{matrix}\\dfrac{\\partial\\mathcal{L}}{\\partial\\alpha}& \\dfrac{\\partial\\mathcal{L}}{\\partial\\beta}\\end{matrix}\\right] = \n",
    "\\left[\\begin{matrix}\\sum y_i - \\dfrac{\\exp{\\left(\\alpha+\\beta x_i\\right)}}{1+\\exp{\\left(\\alpha+\\beta x_i\\right)}}&\n",
    "\\sum x_i\\left(y_i - \\dfrac{\\exp{\\left(\\alpha+\\beta x_i\\right)}}{1+\\exp{\\left(\\alpha+\\beta x_i\\right)}}\\right)\\end{matrix}\\right]$$\n",
    "and the Hessian matrix \n",
    "$$\\boldsymbol{H} = \\left[\\begin{matrix}\\dfrac{\\partial^2\\mathcal{L}}{\\partial\\alpha^2}&\\dfrac{\\partial^2\\mathcal{L}}{\\partial\\alpha\\partial\\beta}\\\\ \\dfrac{\\partial^2\\mathcal{L}}{\\partial\\alpha\\partial\\beta}&\\dfrac{\\partial^2\\mathcal{L}}{\\partial\\beta^2}\\end{matrix}\\right] = \\left[\\begin{matrix}\\sum\\dfrac{\\exp{\\left(\\alpha+\\beta x_i\\right)}}{[1+\\exp{\\left(\\alpha+\\beta x_i\\right)]^2}}&\\sum\\dfrac{x_i\\exp{\\left(\\alpha+\\beta x_i\\right)}}{[1+\\exp{\\left(\\alpha+\\beta x_i\\right)]^2}}\\\\ \\sum\\dfrac{x_i\\exp{\\left(\\alpha+\\beta x_i\\right)}}{[1+\\exp{\\left(\\alpha+\\beta x_i\\right)]^2}}&\\sum\\dfrac{x_i^2\\exp{\\left(\\alpha+\\beta x_i\\right)}}{[1+\\exp{\\left(\\alpha+\\beta x_i\\right)]^2}}\\end{matrix}\\right]$$"
   ]
  },
  {
   "cell_type": "code",
   "execution_count": 149,
   "metadata": {},
   "outputs": [],
   "source": [
    "def pi_x(param, x):\n",
    "    alpha = param[0]; beta = param[1]\n",
    "    return np.exp(alpha + beta * x)/(1 + np.exp(alpha + beta * x))"
   ]
  },
  {
   "cell_type": "code",
   "execution_count": 150,
   "metadata": {},
   "outputs": [],
   "source": [
    "def gradient(param, x, y): \n",
    "    alpha = param[0]; beta = param[1] # specifically for a length-two parameter vector\n",
    "    pr = np.exp(alpha + beta * x)/(1+np.exp(alpha + beta * x))\n",
    "    dLda = y - pi_x(param, x)\n",
    "    dLdb = x*(y - pi_x(param, x))\n",
    "    return np.array([sum(dLda), sum(dLdb)])"
   ]
  },
  {
   "cell_type": "code",
   "execution_count": 151,
   "metadata": {},
   "outputs": [],
   "source": [
    "def hessian(param, x, y):\n",
    "    alpha = param[0]; beta = param[1]\n",
    "    pr = np.exp(alpha + beta * x)/(1+np.exp(alpha + beta * x))\n",
    "    dLdaa = pi_x(param, x)*(1-pi_x(param, x))\n",
    "    dLdab = x*pi_x(param, x)*(1-pi_x(param, x))\n",
    "    dLdbb = x**2*pi_x(param, x)*(1-pi_x(param, x))\n",
    "    return np.array([[sum(dLdaa), sum(dLdab)], [sum(dLdab), sum(dLdbb)]])"
   ]
  },
  {
   "cell_type": "markdown",
   "metadata": {},
   "source": [
    "Now we will initialize our variables to implement the Newton-Raphson solver. The independant variable ($x$) is the index value of the snoring categories of our table. The dependent variable ($y$) is the proportion of people with heart disease."
   ]
  },
  {
   "cell_type": "code",
   "execution_count": 172,
   "metadata": {},
   "outputs": [],
   "source": [
    "x = np.array(index)\n",
    "y = df['HD Proportion']\n",
    "param = [0.1, 0.1] # initial guesses"
   ]
  },
  {
   "cell_type": "code",
   "execution_count": 171,
   "metadata": {},
   "outputs": [
    {
     "data": {
      "text/plain": [
       "(array([-2.02818784, -0.05298974]), array([-1.92818784,  0.04701026]))"
      ]
     },
     "execution_count": 171,
     "metadata": {},
     "output_type": "execute_result"
    }
   ],
   "source": [
    "dparam = np.dot(np.linalg.inv(hessian(param, x, y)), gradient(param, x, y))\n",
    "param = param + dparam\n",
    "dparam, param"
   ]
  },
  {
   "cell_type": "code",
   "execution_count": 173,
   "metadata": {},
   "outputs": [
    {
     "name": "stdout",
     "output_type": "stream",
     "text": [
      "Iterated 4 times\n"
     ]
    },
    {
     "name": "stderr",
     "output_type": "stream",
     "text": [
      "/usr/local/lib/python3.5/dist-packages/ipykernel_launcher.py:3: RuntimeWarning: overflow encountered in exp\n",
      "  This is separate from the ipykernel package so we can avoid doing imports until\n",
      "/usr/local/lib/python3.5/dist-packages/ipykernel_launcher.py:3: RuntimeWarning: invalid value encountered in true_divide\n",
      "  This is separate from the ipykernel package so we can avoid doing imports until\n"
     ]
    }
   ],
   "source": [
    "delta = 1e-10\n",
    "iter_limit = 100\n",
    "dp = np.Infinity\n",
    "i=0\n",
    "while dp > delta and i < iter_limit:\n",
    "    dparam = np.dot(np.linalg.inv(hessian(param, x, y)), gradient(param, x, y))\n",
    "    param = param - dparam\n",
    "    dp = np.sum(dparam**2) # a function to measure how much we are changing each iteration\n",
    "    i += 1\n",
    "print(\"Iterated {0} times\".format(i))"
   ]
  },
  {
   "cell_type": "code",
   "execution_count": 142,
   "metadata": {},
   "outputs": [
    {
     "data": {
      "text/plain": [
       "array([ nan,  nan])"
      ]
     },
     "execution_count": 142,
     "metadata": {},
     "output_type": "execute_result"
    }
   ],
   "source": [
    "param"
   ]
  },
  {
   "cell_type": "markdown",
   "metadata": {},
   "source": [
    "Our final parameters are $\\alpha = -3.729$ and $\\beta = 0.359$. We can now add our estimated fit values to the table"
   ]
  },
  {
   "cell_type": "code",
   "execution_count": 128,
   "metadata": {},
   "outputs": [
    {
     "data": {
      "text/html": [
       "<div>\n",
       "<style>\n",
       "    .dataframe thead tr:only-child th {\n",
       "        text-align: right;\n",
       "    }\n",
       "\n",
       "    .dataframe thead th {\n",
       "        text-align: left;\n",
       "    }\n",
       "\n",
       "    .dataframe tbody tr th {\n",
       "        vertical-align: top;\n",
       "    }\n",
       "</style>\n",
       "<table border=\"1\" class=\"dataframe\">\n",
       "  <thead>\n",
       "    <tr style=\"text-align: right;\">\n",
       "      <th></th>\n",
       "      <th>HD</th>\n",
       "      <th>No HD</th>\n",
       "      <th>HD Proportion</th>\n",
       "      <th>Logistic Fit</th>\n",
       "    </tr>\n",
       "  </thead>\n",
       "  <tbody>\n",
       "    <tr>\n",
       "      <th>0</th>\n",
       "      <td>24.0</td>\n",
       "      <td>1355.0</td>\n",
       "      <td>0.017404</td>\n",
       "      <td>0.023463</td>\n",
       "    </tr>\n",
       "    <tr>\n",
       "      <th>2</th>\n",
       "      <td>35.0</td>\n",
       "      <td>603.0</td>\n",
       "      <td>0.054859</td>\n",
       "      <td>0.046992</td>\n",
       "    </tr>\n",
       "    <tr>\n",
       "      <th>4</th>\n",
       "      <td>21.0</td>\n",
       "      <td>192.0</td>\n",
       "      <td>0.098592</td>\n",
       "      <td>0.091896</td>\n",
       "    </tr>\n",
       "    <tr>\n",
       "      <th>5</th>\n",
       "      <td>30.0</td>\n",
       "      <td>224.0</td>\n",
       "      <td>0.118110</td>\n",
       "      <td>0.126614</td>\n",
       "    </tr>\n",
       "  </tbody>\n",
       "</table>\n",
       "</div>"
      ],
      "text/plain": [
       "     HD   No HD  HD Proportion  Logistic Fit\n",
       "0  24.0  1355.0       0.017404      0.023463\n",
       "2  35.0   603.0       0.054859      0.046992\n",
       "4  21.0   192.0       0.098592      0.091896\n",
       "5  30.0   224.0       0.118110      0.126614"
      ]
     },
     "execution_count": 128,
     "metadata": {},
     "output_type": "execute_result"
    }
   ],
   "source": [
    "df['Logistic Fit'] = pi_x(param, x)\n",
    "df"
   ]
  }
 ],
 "metadata": {
  "kernelspec": {
   "display_name": "Python 3",
   "language": "python",
   "name": "python3"
  },
  "language_info": {
   "codemirror_mode": {
    "name": "ipython",
    "version": 3
   },
   "file_extension": ".py",
   "mimetype": "text/x-python",
   "name": "python",
   "nbconvert_exporter": "python",
   "pygments_lexer": "ipython3",
   "version": "3.5.2"
  }
 },
 "nbformat": 4,
 "nbformat_minor": 2
}
