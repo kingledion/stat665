{
 "cells": [
  {
   "cell_type": "markdown",
   "metadata": {},
   "source": [
    "# Problem 4.2"
   ]
  },
  {
   "cell_type": "markdown",
   "metadata": {},
   "source": [
    "## part a.\n",
    "\n",
    "We initialize two pandas datasets df_u as ungrouped and df_g as grouped."
   ]
  },
  {
   "cell_type": "code",
   "execution_count": 56,
   "metadata": {},
   "outputs": [],
   "source": [
    "import pandas as pd, numpy as np, statsmodels.api as sm"
   ]
  },
  {
   "cell_type": "code",
   "execution_count": 66,
   "metadata": {},
   "outputs": [
    {
     "data": {
      "text/html": [
       "<div>\n",
       "<table border=\"1\" class=\"dataframe\">\n",
       "  <thead>\n",
       "    <tr style=\"text-align: right;\">\n",
       "      <th></th>\n",
       "      <th>Sucesses</th>\n",
       "    </tr>\n",
       "  </thead>\n",
       "  <tbody>\n",
       "    <tr>\n",
       "      <th>0</th>\n",
       "      <td>1</td>\n",
       "    </tr>\n",
       "    <tr>\n",
       "      <th>0</th>\n",
       "      <td>0</td>\n",
       "    </tr>\n",
       "    <tr>\n",
       "      <th>0</th>\n",
       "      <td>0</td>\n",
       "    </tr>\n",
       "    <tr>\n",
       "      <th>0</th>\n",
       "      <td>0</td>\n",
       "    </tr>\n",
       "    <tr>\n",
       "      <th>1</th>\n",
       "      <td>1</td>\n",
       "    </tr>\n",
       "    <tr>\n",
       "      <th>1</th>\n",
       "      <td>1</td>\n",
       "    </tr>\n",
       "    <tr>\n",
       "      <th>1</th>\n",
       "      <td>0</td>\n",
       "    </tr>\n",
       "    <tr>\n",
       "      <th>1</th>\n",
       "      <td>0</td>\n",
       "    </tr>\n",
       "    <tr>\n",
       "      <th>2</th>\n",
       "      <td>1</td>\n",
       "    </tr>\n",
       "    <tr>\n",
       "      <th>2</th>\n",
       "      <td>1</td>\n",
       "    </tr>\n",
       "    <tr>\n",
       "      <th>2</th>\n",
       "      <td>1</td>\n",
       "    </tr>\n",
       "    <tr>\n",
       "      <th>2</th>\n",
       "      <td>1</td>\n",
       "    </tr>\n",
       "  </tbody>\n",
       "</table>\n",
       "</div>"
      ],
      "text/plain": [
       "   Sucesses\n",
       "0         1\n",
       "0         0\n",
       "0         0\n",
       "0         0\n",
       "1         1\n",
       "1         1\n",
       "1         0\n",
       "1         0\n",
       "2         1\n",
       "2         1\n",
       "2         1\n",
       "2         1"
      ]
     },
     "execution_count": 66,
     "metadata": {},
     "output_type": "execute_result"
    }
   ],
   "source": [
    "data_u = np.array([1, 0, 0, 0, 1, 1, 0, 0, 1, 1, 1, 1])\n",
    "index_u = ([0, 0, 0, 0, 1, 1, 1, 1, 2, 2, 2, 2])\n",
    "df_u = pd.DataFrame(data = data_0, index = index_u, columns=['Sucesses'])\n",
    "df_u # ungrouped data"
   ]
  },
  {
   "cell_type": "code",
   "execution_count": 67,
   "metadata": {},
   "outputs": [
    {
     "data": {
      "text/html": [
       "<div>\n",
       "<table border=\"1\" class=\"dataframe\">\n",
       "  <thead>\n",
       "    <tr style=\"text-align: right;\">\n",
       "      <th></th>\n",
       "      <th>Trials</th>\n",
       "      <th>Sucesses</th>\n",
       "    </tr>\n",
       "  </thead>\n",
       "  <tbody>\n",
       "    <tr>\n",
       "      <th>0</th>\n",
       "      <td>4</td>\n",
       "      <td>1</td>\n",
       "    </tr>\n",
       "    <tr>\n",
       "      <th>1</th>\n",
       "      <td>4</td>\n",
       "      <td>2</td>\n",
       "    </tr>\n",
       "    <tr>\n",
       "      <th>2</th>\n",
       "      <td>4</td>\n",
       "      <td>4</td>\n",
       "    </tr>\n",
       "  </tbody>\n",
       "</table>\n",
       "</div>"
      ],
      "text/plain": [
       "   Trials  Sucesses\n",
       "0       4         1\n",
       "1       4         2\n",
       "2       4         4"
      ]
     },
     "execution_count": 67,
     "metadata": {},
     "output_type": "execute_result"
    }
   ],
   "source": [
    "data_g = np.array([[4,1], [4,2], [4,4]])\n",
    "index_g = [0,1,2]\n",
    "df_g = pd.DataFrame(data = data_1, index = index_1, columns=['Trials', 'Sucesses'])\n",
    "df_g # grouped data"
   ]
  },
  {
   "cell_type": "markdown",
   "metadata": {},
   "source": [
    "For model $M_0$, $\\text{logit}\\left[P(Y=1)\\right]=\\alpha$, there is no parameter for the x values. Therefore, the x-variable is effectively an array of zeroes, while the constant $\\alpha$ is represented by an array of ones. The array of zeroes is trivial and can be ignored. First we fit the ungrouped data:"
   ]
  },
  {
   "cell_type": "code",
   "execution_count": 77,
   "metadata": {},
   "outputs": [
    {
     "name": "stdout",
     "output_type": "stream",
     "text": [
      "                 Generalized Linear Model Regression Results                  \n",
      "==============================================================================\n",
      "Dep. Variable:               Sucesses   No. Observations:                   12\n",
      "Model:                            GLM   Df Residuals:                       11\n",
      "Model Family:                Binomial   Df Model:                            0\n",
      "Link Function:                  logit   Scale:                             1.0\n",
      "Method:                          IRLS   Log-Likelihood:                -8.1503\n",
      "Date:                Tue, 14 Nov 2017   Deviance:                       16.301\n",
      "Time:                        20:01:35   Pearson chi2:                     12.0\n",
      "No. Iterations:                     4                                         \n",
      "==============================================================================\n",
      "                 coef    std err          z      P>|z|      [0.025      0.975]\n",
      "------------------------------------------------------------------------------\n",
      "const          0.3365      0.586      0.575      0.566      -0.811       1.484\n",
      "==============================================================================\n"
     ]
    }
   ],
   "source": [
    "y = df_u['Sucesses'] \n",
    "X = np.ones(len(df_u['Sucesses']))\n",
    "#M_0 = sm.Logit(y, X)\n",
    "M_0 = sm.GLM(y, X, family=sm.families.Binomial(sm.families.links.logit))\n",
    "result_0 = M_0.fit()\n",
    "print(result_0.summary())"
   ]
  },
  {
   "cell_type": "code",
   "execution_count": 82,
   "metadata": {},
   "outputs": [
    {
     "name": "stderr",
     "output_type": "stream",
     "text": [
      "/usr/local/lib/python3.5/dist-packages/ipykernel_launcher.py:2: RuntimeWarning: divide by zero encountered in log\n",
      "  \n"
     ]
    },
    {
     "data": {
      "text/plain": [
       "0    0.538997\n",
       "0        -inf\n",
       "0        -inf\n",
       "0        -inf\n",
       "1    0.538997\n",
       "1    0.538997\n",
       "1        -inf\n",
       "1        -inf\n",
       "2    0.538997\n",
       "2    0.538997\n",
       "2    0.538997\n",
       "2    0.538997\n",
       "Name: Sucesses, dtype: float64"
      ]
     },
     "execution_count": 82,
     "metadata": {},
     "output_type": "execute_result"
    }
   ],
   "source": [
    "# deviance\n",
    "np.log(y/result_0.predict(X))"
   ]
  },
  {
   "cell_type": "code",
   "execution_count": 79,
   "metadata": {},
   "outputs": [
    {
     "data": {
      "text/plain": [
       "0    1\n",
       "0    0\n",
       "0    0\n",
       "0    0\n",
       "1    1\n",
       "1    1\n",
       "1    0\n",
       "1    0\n",
       "2    1\n",
       "2    1\n",
       "2    1\n",
       "2    1\n",
       "Name: Sucesses, dtype: int64"
      ]
     },
     "execution_count": 79,
     "metadata": {},
     "output_type": "execute_result"
    }
   ],
   "source": [
    "y\n"
   ]
  },
  {
   "cell_type": "markdown",
   "metadata": {},
   "source": [
    "Now we fit the grouped data:"
   ]
  },
  {
   "cell_type": "code",
   "execution_count": 70,
   "metadata": {},
   "outputs": [
    {
     "name": "stdout",
     "output_type": "stream",
     "text": [
      "                 Generalized Linear Model Regression Results                  \n",
      "==============================================================================\n",
      "Dep. Variable:                      y   No. Observations:                    3\n",
      "Model:                            GLM   Df Residuals:                        2\n",
      "Model Family:                Binomial   Df Model:                            0\n",
      "Link Function:                  logit   Scale:                             1.0\n",
      "Method:                          IRLS   Log-Likelihood:                -2.0376\n",
      "Date:                Tue, 14 Nov 2017   Deviance:                       4.5799\n",
      "Time:                        16:25:03   Pearson chi2:                     1.20\n",
      "No. Iterations:                     4                                         \n",
      "==============================================================================\n",
      "                 coef    std err          z      P>|z|      [0.025      0.975]\n",
      "------------------------------------------------------------------------------\n",
      "const          0.3365      1.171      0.287      0.774      -1.959       2.632\n",
      "==============================================================================\n"
     ]
    }
   ],
   "source": [
    "y = np.array(df_g['Sucesses'] / df_1['Trials'])\n",
    "X = np.ones(len(df_g['Sucesses']))\n",
    "#M_0 = sm.Logit(y, X)\n",
    "M_0 = sm.GLM(y, X, family=sm.families.Binomial(sm.families.links.logit))\n",
    "result_0 = M_0.fit()\n",
    "print(result_0.summary())"
   ]
  },
  {
   "cell_type": "code",
   "execution_count": 71,
   "metadata": {},
   "outputs": [
    {
     "data": {
      "text/plain": [
       "array([ 0.58333333,  0.58333333,  0.58333333])"
      ]
     },
     "execution_count": 71,
     "metadata": {},
     "output_type": "execute_result"
    }
   ],
   "source": [
    "result_0.predict(X)"
   ]
  },
  {
   "cell_type": "markdown",
   "metadata": {},
   "source": [
    "Now we fit the ungrouped and then grouped data to model M_1:"
   ]
  },
  {
   "cell_type": "code",
   "execution_count": 72,
   "metadata": {},
   "outputs": [
    {
     "name": "stdout",
     "output_type": "stream",
     "text": [
      "                 Generalized Linear Model Regression Results                  \n",
      "==============================================================================\n",
      "Dep. Variable:                      y   No. Observations:                   12\n",
      "Model:                            GLM   Df Residuals:                       10\n",
      "Model Family:                Binomial   Df Model:                            1\n",
      "Link Function:                  logit   Scale:                             1.0\n",
      "Method:                          IRLS   Log-Likelihood:                -5.5141\n",
      "Date:                Tue, 14 Nov 2017   Deviance:                       11.028\n",
      "Time:                        16:25:06   Pearson chi2:                     10.1\n",
      "No. Iterations:                     5                                         \n",
      "==============================================================================\n",
      "                 coef    std err          z      P>|z|      [0.025      0.975]\n",
      "------------------------------------------------------------------------------\n",
      "const         -1.5027      1.181     -1.272      0.203      -3.818       0.813\n",
      "x1             2.0605      1.130      1.823      0.068      -0.154       4.275\n",
      "==============================================================================\n"
     ]
    }
   ],
   "source": [
    "y = np.array(df_u['Sucesses'])\n",
    "X = index_u\n",
    "X = sm.add_constant(X) # adds intercept (\\alpha)\n",
    "M_1 = sm.GLM(y, X, family=sm.families.Binomial(sm.families.links.logit))\n",
    "result_1 = M_1.fit()\n",
    "print(result_1.summary())"
   ]
  },
  {
   "cell_type": "code",
   "execution_count": 73,
   "metadata": {},
   "outputs": [
    {
     "name": "stdout",
     "output_type": "stream",
     "text": [
      "                 Generalized Linear Model Regression Results                  \n",
      "==============================================================================\n",
      "Dep. Variable:                      y   No. Observations:                    3\n",
      "Model:                            GLM   Df Residuals:                        1\n",
      "Model Family:                Binomial   Df Model:                            1\n",
      "Link Function:                  logit   Scale:                             1.0\n",
      "Method:                          IRLS   Log-Likelihood:                -1.3785\n",
      "Date:                Tue, 14 Nov 2017   Deviance:                       2.5635\n",
      "Time:                        16:25:07   Pearson chi2:                    0.184\n",
      "No. Iterations:                     6                                         \n",
      "==============================================================================\n",
      "                 coef    std err          z      P>|z|      [0.025      0.975]\n",
      "------------------------------------------------------------------------------\n",
      "const         -1.5027      2.363     -0.636      0.525      -6.133       3.128\n",
      "x1             2.0605      2.260      0.912      0.362      -2.369       6.490\n",
      "==============================================================================\n"
     ]
    }
   ],
   "source": [
    "y = np.array(df_g['Sucesses'] / df_g['Trials'])\n",
    "X = index_g\n",
    "X = sm.add_constant(X) # adds intercept (\\alpha)\n",
    "M_1 = sm.GLM(y, X, family=sm.families.Binomial(sm.families.links.logit))\n",
    "result_1 = M_1.fit()\n",
    "print(result_1.summary())"
   ]
  },
  {
   "cell_type": "code",
   "execution_count": 50,
   "metadata": {},
   "outputs": [
    {
     "data": {
      "text/plain": [
       "array([ 0.18202816,  0.63594369,  0.93202816])"
      ]
     },
     "execution_count": 50,
     "metadata": {},
     "output_type": "execute_result"
    }
   ],
   "source": [
    "result_1.predict(X)"
   ]
  },
  {
   "cell_type": "code",
   "execution_count": null,
   "metadata": {},
   "outputs": [],
   "source": []
  },
  {
   "cell_type": "markdown",
   "metadata": {},
   "source": [
    "# Problem 4.12"
   ]
  },
  {
   "cell_type": "markdown",
   "metadata": {},
   "source": [
    "## part a.\n",
    "\n",
    "There are 63 parameters in the saturated model, from 3 H, 3 S, and 7 T categories. There are 11 parameters i nthe fitted model, including 1 constant, 2 H, 2 S, and 6 T. The difference is the degrees of freedom: 52.\n",
    "\n",
    "The p-value of the deviance in the chi-squared distribution with degrees of freedom equal to the model's will tell us whether the fit is good or not."
   ]
  },
  {
   "cell_type": "code",
   "execution_count": 94,
   "metadata": {},
   "outputs": [
    {
     "data": {
      "text/plain": [
       "0.78035694250244336"
      ]
     },
     "execution_count": 94,
     "metadata": {},
     "output_type": "execute_result"
    }
   ],
   "source": [
    "from scipy.stats import chi2\n",
    "1-chi2.cdf(43.9, 52)"
   ]
  },
  {
   "cell_type": "markdown",
   "metadata": {},
   "source": [
    "Due to the high p-value, the fit appears to be poor"
   ]
  },
  {
   "cell_type": "markdown",
   "metadata": {},
   "source": [
    "## part b.\n",
    "\n",
    "In both cases, the standard error is less than the magnitude of the parameter coefficient. A 95 percent confidence interval for these effects are:"
   ]
  },
  {
   "cell_type": "code",
   "execution_count": 91,
   "metadata": {},
   "outputs": [],
   "source": [
    "s2 = .470; s2se = .174; s3 = 1.324; s3se = .152\n",
    "from scipy.stats import norm"
   ]
  },
  {
   "cell_type": "code",
   "execution_count": 92,
   "metadata": {},
   "outputs": [
    {
     "data": {
      "text/plain": [
       "(0.12896626669003053, 0.81103373330996942)"
      ]
     },
     "execution_count": 92,
     "metadata": {},
     "output_type": "execute_result"
    }
   ],
   "source": [
    "(s2 + norm.ppf(0.025)*s2se, s2 - norm.ppf(0.025)*s2se)"
   ]
  },
  {
   "cell_type": "code",
   "execution_count": 93,
   "metadata": {},
   "outputs": [
    {
     "data": {
      "text/plain": [
       "(1.0260854743499117, 1.6219145256500884)"
      ]
     },
     "execution_count": 93,
     "metadata": {},
     "output_type": "execute_result"
    }
   ],
   "source": [
    "(s3 + norm.ppf(0.025)*s3se, s3 - norm.ppf(0.025)*s3se)"
   ]
  },
  {
   "cell_type": "markdown",
   "metadata": {},
   "source": [
    "We see that both effects are likely to be non-zero, and that we can be relatively more confident of the effect of S = 3 than S = 2."
   ]
  },
  {
   "cell_type": "markdown",
   "metadata": {},
   "source": [
    "## part c.\n",
    "\n",
    "Adding this term decreased the deviance by 2.4 but the degrees of freedom by 4. This implies that there was not much improvement in the model. This is borne out by checking the chi-square p-values again"
   ]
  },
  {
   "cell_type": "code",
   "execution_count": 96,
   "metadata": {},
   "outputs": [
    {
     "data": {
      "text/plain": [
       "0.73468876717479104"
      ]
     },
     "execution_count": 96,
     "metadata": {},
     "output_type": "execute_result"
    }
   ],
   "source": [
    "1-chi2.cdf(41.5, 48)"
   ]
  },
  {
   "cell_type": "markdown",
   "metadata": {},
   "source": [
    "While marginally better, this p-value still implies a poor fit. "
   ]
  },
  {
   "cell_type": "code",
   "execution_count": null,
   "metadata": {},
   "outputs": [],
   "source": []
  }
 ],
 "metadata": {
  "kernelspec": {
   "display_name": "Python 3",
   "language": "python",
   "name": "python3"
  },
  "language_info": {
   "codemirror_mode": {
    "name": "ipython",
    "version": 3
   },
   "file_extension": ".py",
   "mimetype": "text/x-python",
   "name": "python",
   "nbconvert_exporter": "python",
   "pygments_lexer": "ipython3",
   "version": "3.5.2"
  }
 },
 "nbformat": 4,
 "nbformat_minor": 2
}
