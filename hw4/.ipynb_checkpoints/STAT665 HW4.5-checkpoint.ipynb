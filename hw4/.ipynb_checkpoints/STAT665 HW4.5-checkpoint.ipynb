{
 "cells": [
  {
   "cell_type": "markdown",
   "metadata": {},
   "source": [
    "# Problem 6.15"
   ]
  },
  {
   "cell_type": "markdown",
   "metadata": {},
   "source": [
    "## part a.\n",
    "\n",
    "We initialize a dataset with the parameters Z = penicillin level with five categories (1/8, 1/4, 1/2, 1, 4) and X = delay with two categories (None, 1/2 hour). All but one category in each parameter will be represented by a column in the X matrix. The response variable is ratio cured: cured / (cured + died)."
   ]
  },
  {
   "cell_type": "code",
   "execution_count": 69,
   "metadata": {},
   "outputs": [],
   "source": [
    "resp = [[0, 6],\n",
    "         [0, 5],\n",
    "         [3, 3],\n",
    "         [0, 6],\n",
    "         [6, 0],\n",
    "         [2, 4],\n",
    "         [5, 1],\n",
    "         [6, 0],\n",
    "         [2, 0],\n",
    "         [5, 0]]\n",
    "flags = [[0, 0, 0, 0, 0],\n",
    "         [1, 0, 0, 0, 0],\n",
    "         [0, 1, 0, 0, 0],\n",
    "         [1, 1, 0, 0, 0],\n",
    "         [0, 0, 1, 0, 0],\n",
    "         [1, 0, 1, 0, 0],\n",
    "         [0, 0, 0, 1, 0],\n",
    "         [1, 0, 0, 1, 0],\n",
    "         [0, 0, 0, 0, 1],\n",
    "         [1, 0, 0, 0, 1]]"
   ]
  },
  {
   "cell_type": "code",
   "execution_count": 70,
   "metadata": {},
   "outputs": [],
   "source": [
    "import numpy as np\n",
    "r = np.array(resp)\n",
    "y = r[:,0]/np.sum(r, axis = 1)"
   ]
  },
  {
   "cell_type": "code",
   "execution_count": 71,
   "metadata": {},
   "outputs": [],
   "source": [
    "X = np.array(flags)"
   ]
  },
  {
   "cell_type": "code",
   "execution_count": 72,
   "metadata": {},
   "outputs": [
    {
     "name": "stdout",
     "output_type": "stream",
     "text": [
      "                 Generalized Linear Model Regression Results                  \n",
      "==============================================================================\n",
      "Dep. Variable:                      y   No. Observations:                   10\n",
      "Model:                            GLM   Df Residuals:                        5\n",
      "Model Family:                Binomial   Df Model:                            4\n",
      "Link Function:                  logit   Scale:                             1.0\n",
      "Method:                          IRLS   Log-Likelihood:                -3.1578\n",
      "Date:                Tue, 14 Nov 2017   Deviance:                       13.678\n",
      "Time:                        22:45:57   Pearson chi2:                     4.08\n",
      "No. Iterations:                    20                                         \n",
      "==============================================================================\n",
      "                 coef    std err          z      P>|z|      [0.025      0.975]\n",
      "------------------------------------------------------------------------------\n",
      "x1            -2.9961      2.688     -1.115      0.265      -8.264       2.272\n",
      "x2            -0.1633      1.901     -0.086      0.932      -3.889       3.562\n",
      "x3             2.6007      2.789      0.933      0.351      -2.866       8.067\n",
      "x4             4.6737      3.657      1.278      0.201      -2.494      11.841\n",
      "x5            23.6781   1.83e+04      0.001      0.999   -3.59e+04     3.6e+04\n",
      "==============================================================================\n"
     ]
    }
   ],
   "source": [
    "import statsmodels.api as sm\n",
    "result = sm.GLM(y, X, family=sm.families.Binomial(sm.families.links.logit)).fit()\n",
    "print(result.summary())"
   ]
  },
  {
   "cell_type": "markdown",
   "metadata": {},
   "source": [
    "The implication of the data set is that the penecillin level of 4 will _always_ lead to a cure, while a penecillin level of 1/8 will _always_ lead to death. If there is no constant term (or intercept), then the expected survival rate from the logit link depends on the parameters as $$\\pi(\\boldsymbol{x}) = \\frac{\\exp\\left(\\sum \\beta_i x_i\\right)}{1+\\exp\\left(\\sum \\beta_i x_i\\right)}.$$ To set the survival rate ($\\pi$) to zero, then $\\exp\\left(\\sum \\beta_i x_i\\right)$ must equal zero, which is true when $\\sum \\beta_i x_i = -\\infty$. Similarly, $\\pi$ will reach unity when $\\sum \\beta_i x_i = \\infty$. \n",
    "\n",
    "Therefore, if the probability of cure at 1/8 penecillin dose is actually zero, the parameter corresponding to the x2 variable should be $-\\infty$ and, likewise, if the probility of cure at 4 penecillin dose is actually zero, the parameter corresponding to the x5 variable should be $\\infty$.\n",
    "\n",
    "From the model, we can see that the x5 paramenter is large and positive with huge standard error, and the x2 parameter is negative, with a large relative standard error. The p-values for both of these are very large, much worse than the values for the other parameters. "
   ]
  },
  {
   "cell_type": "code",
   "execution_count": 73,
   "metadata": {},
   "outputs": [
    {
     "data": {
      "text/plain": [
       "array([ 0.5       ,  0.04760147,  0.45927655,  0.04072345,  0.93090946,\n",
       "        0.40242387,  0.99074878,  0.84258455,  1.        ,  1.        ])"
      ]
     },
     "execution_count": 73,
     "metadata": {},
     "output_type": "execute_result"
    }
   ],
   "source": [
    "result.predict(X)"
   ]
  },
  {
   "cell_type": "markdown",
   "metadata": {},
   "source": [
    "We can see from the predicted value of 0.5 the weakness of performing this logistic regression with no intercept. With none of the flags set for the condition where penecillin level is 1/8, and there is no delay, all parameters are multiplied by zero. The logit function becomes $\\pi = \\frac{e^0}{1+e^0} = 0.5$ as seen. This affects the acuracy of the x2 coefficient as noted above."
   ]
  },
  {
   "cell_type": "markdown",
   "metadata": {},
   "source": [
    "## part b.\n",
    "\n",
    "Presence of delay is the binary predictor ($X$) and while survival is the binary response ($Y$). Since the conditional odds ratio between the levels of the qualitative covariate ($Z$, penecillin dose) is not constant, we must use the reduced model in eqn 6.5, $\\text{logit}(\\pi_{ik}) = \\alpha + \\beta^{Z}_{k}$. \n",
    "\n",
    "To run this model, we must remove the first column of our previously entered flags data that had represented the $X$ variates. This leaves duplicate rows, so we combine those rows, and sum their response values.\n",
    "\n",
    "We can multiply the predicted results of this model by the $n$ for each response to make a series of 2x2 predicted contingency tables for each level of Z."
   ]
  },
  {
   "cell_type": "code",
   "execution_count": 84,
   "metadata": {},
   "outputs": [],
   "source": [
    "resp2 = np.array(resp[::2]) + np.array(resp[1::2])\n",
    "y2 = resp2[:,0]/np.sum(resp2, axis = 1)\n",
    "X2 = X[::2, 1:]"
   ]
  },
  {
   "cell_type": "code",
   "execution_count": 85,
   "metadata": {},
   "outputs": [
    {
     "data": {
      "text/plain": [
       "(array([ 0.        ,  0.25      ,  0.66666667,  0.91666667,  1.        ]),\n",
       " array([[0, 0, 0, 0],\n",
       "        [1, 0, 0, 0],\n",
       "        [0, 1, 0, 0],\n",
       "        [0, 0, 1, 0],\n",
       "        [0, 0, 0, 1]]))"
      ]
     },
     "execution_count": 85,
     "metadata": {},
     "output_type": "execute_result"
    }
   ],
   "source": [
    "y2, X2"
   ]
  },
  {
   "cell_type": "code",
   "execution_count": 83,
   "metadata": {},
   "outputs": [],
   "source": [
    "result = sm.GLM(y2, X2, family=sm.families.Binomial(sm.families.links.logit)).fit()\n",
    "result.predict(X2)\n",
    "cont = np.vstack([result.predict(X2), 1-result.predict(X2)])*np.sum(resp2, axis=1)"
   ]
  },
  {
   "cell_type": "code",
   "execution_count": 82,
   "metadata": {},
   "outputs": [
    {
     "data": {
      "text/plain": [
       "array([[[  0.        ,  11.        ],\n",
       "        [  5.5       ,   5.5       ]],\n",
       "\n",
       "       [[  3.        ,   9.        ],\n",
       "        [  3.        ,   9.        ]],\n",
       "\n",
       "       [[  8.        ,   4.        ],\n",
       "        [  8.        ,   4.        ]],\n",
       "\n",
       "       [[ 11.        ,   1.        ],\n",
       "        [ 11.        ,   1.        ]],\n",
       "\n",
       "       [[  7.        ,   0.        ],\n",
       "        [  6.99999999,   0.00000001]]])"
      ]
     },
     "execution_count": 82,
     "metadata": {},
     "output_type": "execute_result"
    }
   ],
   "source": [
    "np.set_printoptions(suppress=True)\n",
    "np.stack([resp2, cont.T], axis = 1)"
   ]
  },
  {
   "cell_type": "markdown",
   "metadata": {},
   "source": [
    "We can now test these tables for conditional indepdenence. The test is basically unnecessary since the rows in the table are basically identical. The bottom row is slightly off since the model cannot properly predict infinity as a parameter outcome. The top row is wrong due to the previously noted error that a logistic model without and intercept must predict $\\pi$ value of 0.5 when all binary predictor flags are zero. \n",
    "\n",
    "Since the model is otherwise identical, we can assume that the response variable and delay time are conditionally independent; that is, rabbit survival is not affected by whether the injection of penecillin is immediate or delayed."
   ]
  },
  {
   "cell_type": "code",
   "execution_count": null,
   "metadata": {},
   "outputs": [],
   "source": []
  }
 ],
 "metadata": {
  "kernelspec": {
   "display_name": "Python 3",
   "language": "python",
   "name": "python3"
  },
  "language_info": {
   "codemirror_mode": {
    "name": "ipython",
    "version": 3
   },
   "file_extension": ".py",
   "mimetype": "text/x-python",
   "name": "python",
   "nbconvert_exporter": "python",
   "pygments_lexer": "ipython3",
   "version": "3.5.2"
  }
 },
 "nbformat": 4,
 "nbformat_minor": 2
}
