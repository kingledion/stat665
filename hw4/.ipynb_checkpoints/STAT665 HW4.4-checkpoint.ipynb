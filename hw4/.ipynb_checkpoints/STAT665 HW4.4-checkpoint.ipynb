{
 "cells": [
  {
   "cell_type": "markdown",
   "metadata": {},
   "source": [
    "# Problem 5.8"
   ]
  },
  {
   "cell_type": "markdown",
   "metadata": {},
   "source": [
    "## part a.\n",
    "\n",
    "We initialize a dataset with the parameters X as age and a constant and the response variable y as boolean presence of kyphosis."
   ]
  },
  {
   "cell_type": "code",
   "execution_count": 4,
   "metadata": {},
   "outputs": [],
   "source": [
    "import numpy as np\n",
    "import statsmodels.api as sm"
   ]
  },
  {
   "cell_type": "code",
   "execution_count": 5,
   "metadata": {},
   "outputs": [],
   "source": [
    "kyph = [12, 15, 42, 52, 59, 73, 82, 91, 96, 105, 114, 120, 121, 128, 130, 139, 139, 157]\n",
    "witht = [1, 1, 2, 8, 11, 18, 22, 31, 37, 61, 72, 81, 97, 112, 11, 127, 131, 140, 151, 159, 177, 206]\n",
    "X = np.concatenate([kyph, witht])\n",
    "X = sm.add_constant(X)"
   ]
  },
  {
   "cell_type": "code",
   "execution_count": 6,
   "metadata": {},
   "outputs": [],
   "source": [
    "y = np.concatenate([np.ones(len(kyph)), np.zeros(len(witht))])"
   ]
  },
  {
   "cell_type": "code",
   "execution_count": 7,
   "metadata": {},
   "outputs": [
    {
     "name": "stdout",
     "output_type": "stream",
     "text": [
      "                 Generalized Linear Model Regression Results                  \n",
      "==============================================================================\n",
      "Dep. Variable:                      y   No. Observations:                   40\n",
      "Model:                            GLM   Df Residuals:                       38\n",
      "Model Family:                Binomial   Df Model:                            1\n",
      "Link Function:                  logit   Scale:                             1.0\n",
      "Method:                          IRLS   Log-Likelihood:                -27.024\n",
      "Date:                Wed, 15 Nov 2017   Deviance:                       54.048\n",
      "Time:                        16:37:56   Pearson chi2:                     39.9\n",
      "No. Iterations:                     4                                         \n",
      "==============================================================================\n",
      "                 coef    std err          z      P>|z|      [0.025      0.975]\n",
      "------------------------------------------------------------------------------\n",
      "const         -0.6841      0.589     -1.162      0.245      -1.838       0.470\n",
      "x1             0.0057      0.006      0.990      0.322      -0.006       0.017\n",
      "==============================================================================\n"
     ]
    }
   ],
   "source": [
    "\n",
    "result = sm.GLM(y, X, family=sm.families.Binomial(sm.families.links.logit)).fit()\n",
    "print(result.summary())"
   ]
  },
  {
   "cell_type": "markdown",
   "metadata": {},
   "source": [
    "For the 'x1' variable representing age, we see that the 95% confidence interval includes zero, and the p-value is a lukewarm 0.322. Thus we should not claim that age has a significant effect on kyphosis."
   ]
  },
  {
   "cell_type": "markdown",
   "metadata": {},
   "source": [
    "## part b."
   ]
  },
  {
   "cell_type": "code",
   "execution_count": 8,
   "metadata": {},
   "outputs": [
    {
     "data": {
      "image/png": "[encoded data removed]",
      "text/plain": [
       "<matplotlib.figure.Figure at 0x7f93f99bac18>"
      ]
     },
     "metadata": {},
     "output_type": "display_data"
    }
   ],
   "source": [
    "import matplotlib.pyplot as plt\n",
    "fits = result.predict(X)\n",
    "plt.plot(kyph, np.ones(len(kyph)), 'ro', witht, np.zeros(len(witht)), 'go', np.concatenate([kyph, witht]), fits, 'bx')\n",
    "plt.show()"
   ]
  },
  {
   "cell_type": "markdown",
   "metadata": {},
   "source": [
    "Age of those for whom kyphosis is present is in red, those without kyphosis in green. The regression line from age is in blue. We notice the larger dispersion among those without kyphosis, including what may be a concentration among the youngest.\n",
    "\n",
    "We add an $x^2$ term to the X matrix and redo the logistic regression."
   ]
  },
  {
   "cell_type": "code",
   "execution_count": 9,
   "metadata": {},
   "outputs": [],
   "source": [
    "x2 = np.concatenate([kyph, witht])[np.newaxis].T**2\n",
    "X = np.concatenate([X, x2], axis = 1)"
   ]
  },
  {
   "cell_type": "code",
   "execution_count": 10,
   "metadata": {},
   "outputs": [
    {
     "name": "stdout",
     "output_type": "stream",
     "text": [
      "                 Generalized Linear Model Regression Results                  \n",
      "==============================================================================\n",
      "Dep. Variable:                      y   No. Observations:                   40\n",
      "Model:                            GLM   Df Residuals:                       37\n",
      "Model Family:                Binomial   Df Model:                            2\n",
      "Link Function:                  logit   Scale:                             1.0\n",
      "Method:                          IRLS   Log-Likelihood:                -23.314\n",
      "Date:                Wed, 15 Nov 2017   Deviance:                       46.629\n",
      "Time:                        16:38:01   Pearson chi2:                     38.4\n",
      "No. Iterations:                     5                                         \n",
      "==============================================================================\n",
      "                 coef    std err          z      P>|z|      [0.025      0.975]\n",
      "------------------------------------------------------------------------------\n",
      "const         -2.2742      1.002     -2.269      0.023      -4.239      -0.310\n",
      "x1             0.0669      0.027      2.443      0.015       0.013       0.120\n",
      "x2            -0.0004      0.000     -2.251      0.024      -0.001   -4.65e-05\n",
      "==============================================================================\n"
     ]
    }
   ],
   "source": [
    "result = sm.GLM(y, X, family=sm.families.Binomial(sm.families.links.logit)).fit()\n",
    "print(result.summary())"
   ]
  },
  {
   "cell_type": "code",
   "execution_count": 11,
   "metadata": {},
   "outputs": [
    {
     "data": {
      "image/png": "[encoded data removed]",
      "text/plain": [
       "<matplotlib.figure.Figure at 0x7f93f807c048>"
      ]
     },
     "metadata": {},
     "output_type": "display_data"
    }
   ],
   "source": [
    "fits = result.predict(X)\n",
    "plt.plot(kyph, np.ones(len(kyph)), 'ro', witht, np.zeros(len(witht)), 'go', np.concatenate([kyph, witht]), fits, 'bx')\n",
    "plt.show()"
   ]
  },
  {
   "cell_type": "markdown",
   "metadata": {},
   "source": [
    "Because the dispersion of the non-kyphosis group is larger, this group is better represented at both young and older ages. Thus, a parabolic form allows the model estimates to predict kyphosis is more likely in the middle of the age range, and less likely at the edges.\n",
    "\n",
    "The effect on the model is that the standard error of the linear coefficient goes down relative to the magnitude of the coefficient, so the p-value is correspondingly smaller. The quadratic coefficient has a similarly low p-value, and we can conclude from the data that using this model both the linear and quadratic tgerms are significant at the $\\alpha = 0.05$ level."
   ]
  }
 ],
 "metadata": {
  "kernelspec": {
   "display_name": "Python 3",
   "language": "python",
   "name": "python3"
  },
  "language_info": {
   "codemirror_mode": {
    "name": "ipython",
    "version": 3
   },
   "file_extension": ".py",
   "mimetype": "text/x-python",
   "name": "python",
   "nbconvert_exporter": "python",
   "pygments_lexer": "ipython3",
   "version": "3.5.2"
  }
 },
 "nbformat": 4,
 "nbformat_minor": 2
}
