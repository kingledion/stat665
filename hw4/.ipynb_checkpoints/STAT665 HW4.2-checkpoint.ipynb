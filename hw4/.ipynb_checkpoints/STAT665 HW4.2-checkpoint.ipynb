{
 "cells": [
  {
   "cell_type": "markdown",
   "metadata": {},
   "source": [
    "# Problem 4.2"
   ]
  },
  {
   "cell_type": "markdown",
   "metadata": {},
   "source": [
    "## part a.\n",
    "\n",
    "We initialize two pandas datasets df_u as ungrouped and df_g as grouped."
   ]
  },
  {
   "cell_type": "code",
   "execution_count": 2,
   "metadata": {},
   "outputs": [],
   "source": [
    "import pandas as pd, numpy as np, statsmodels.api as sm"
   ]
  },
  {
   "cell_type": "code",
   "execution_count": 4,
   "metadata": {},
   "outputs": [
    {
     "data": {
      "text/html": [
       "<div>\n",
       "<table border=\"1\" class=\"dataframe\">\n",
       "  <thead>\n",
       "    <tr style=\"text-align: right;\">\n",
       "      <th></th>\n",
       "      <th>Sucesses</th>\n",
       "    </tr>\n",
       "  </thead>\n",
       "  <tbody>\n",
       "    <tr>\n",
       "      <th>0</th>\n",
       "      <td>1</td>\n",
       "    </tr>\n",
       "    <tr>\n",
       "      <th>0</th>\n",
       "      <td>0</td>\n",
       "    </tr>\n",
       "    <tr>\n",
       "      <th>0</th>\n",
       "      <td>0</td>\n",
       "    </tr>\n",
       "    <tr>\n",
       "      <th>0</th>\n",
       "      <td>0</td>\n",
       "    </tr>\n",
       "    <tr>\n",
       "      <th>1</th>\n",
       "      <td>1</td>\n",
       "    </tr>\n",
       "    <tr>\n",
       "      <th>1</th>\n",
       "      <td>1</td>\n",
       "    </tr>\n",
       "    <tr>\n",
       "      <th>1</th>\n",
       "      <td>0</td>\n",
       "    </tr>\n",
       "    <tr>\n",
       "      <th>1</th>\n",
       "      <td>0</td>\n",
       "    </tr>\n",
       "    <tr>\n",
       "      <th>2</th>\n",
       "      <td>1</td>\n",
       "    </tr>\n",
       "    <tr>\n",
       "      <th>2</th>\n",
       "      <td>1</td>\n",
       "    </tr>\n",
       "    <tr>\n",
       "      <th>2</th>\n",
       "      <td>1</td>\n",
       "    </tr>\n",
       "    <tr>\n",
       "      <th>2</th>\n",
       "      <td>1</td>\n",
       "    </tr>\n",
       "  </tbody>\n",
       "</table>\n",
       "</div>"
      ],
      "text/plain": [
       "   Sucesses\n",
       "0         1\n",
       "0         0\n",
       "0         0\n",
       "0         0\n",
       "1         1\n",
       "1         1\n",
       "1         0\n",
       "1         0\n",
       "2         1\n",
       "2         1\n",
       "2         1\n",
       "2         1"
      ]
     },
     "execution_count": 4,
     "metadata": {},
     "output_type": "execute_result"
    }
   ],
   "source": [
    "data_u = np.array([1, 0, 0, 0, 1, 1, 0, 0, 1, 1, 1, 1])\n",
    "index_u = ([0, 0, 0, 0, 1, 1, 1, 1, 2, 2, 2, 2])\n",
    "df_u = pd.DataFrame(data = data_u, index = index_u, columns=['Sucesses'])\n",
    "df_u # ungrouped data"
   ]
  },
  {
   "cell_type": "code",
   "execution_count": 17,
   "metadata": {},
   "outputs": [
    {
     "data": {
      "text/html": [
       "<div>\n",
       "<table border=\"1\" class=\"dataframe\">\n",
       "  <thead>\n",
       "    <tr style=\"text-align: right;\">\n",
       "      <th></th>\n",
       "      <th>Trials</th>\n",
       "      <th>Sucesses</th>\n",
       "    </tr>\n",
       "  </thead>\n",
       "  <tbody>\n",
       "    <tr>\n",
       "      <th>0</th>\n",
       "      <td>4</td>\n",
       "      <td>1</td>\n",
       "    </tr>\n",
       "    <tr>\n",
       "      <th>1</th>\n",
       "      <td>4</td>\n",
       "      <td>2</td>\n",
       "    </tr>\n",
       "    <tr>\n",
       "      <th>2</th>\n",
       "      <td>4</td>\n",
       "      <td>4</td>\n",
       "    </tr>\n",
       "  </tbody>\n",
       "</table>\n",
       "</div>"
      ],
      "text/plain": [
       "   Trials  Sucesses\n",
       "0       4         1\n",
       "1       4         2\n",
       "2       4         4"
      ]
     },
     "execution_count": 17,
     "metadata": {},
     "output_type": "execute_result"
    }
   ],
   "source": [
    "data_g = np.array([[4,1], [4,2], [4,4]])\n",
    "index_g = [0,1,2]\n",
    "df_g = pd.DataFrame(data = data_g, index = index_g, columns=['Trials', 'Sucesses'])\n",
    "df_g # grouped data"
   ]
  },
  {
   "cell_type": "markdown",
   "metadata": {},
   "source": [
    "For model $M_0$, $\\text{logit}\\left[P(Y=1)\\right]=\\alpha$, there is no parameter for the x values. Therefore, the x-variable is effectively an array of zeroes, while the constant $\\alpha$ is represented by an array of ones. The array of zeroes is trivial and can be ignored. First we fit the ungrouped data:"
   ]
  },
  {
   "cell_type": "code",
   "execution_count": 55,
   "metadata": {},
   "outputs": [
    {
     "name": "stdout",
     "output_type": "stream",
     "text": [
      "                 Generalized Linear Model Regression Results                  \n",
      "==============================================================================\n",
      "Dep. Variable:               Sucesses   No. Observations:                   12\n",
      "Model:                            GLM   Df Residuals:                       11\n",
      "Model Family:                Binomial   Df Model:                            0\n",
      "Link Function:                  logit   Scale:                             1.0\n",
      "Method:                          IRLS   Log-Likelihood:                -8.1503\n",
      "Date:                Wed, 15 Nov 2017   Deviance:                       16.301\n",
      "Time:                        16:05:26   Pearson chi2:                     12.0\n",
      "No. Iterations:                     4                                         \n",
      "==============================================================================\n",
      "                 coef    std err          z      P>|z|      [0.025      0.975]\n",
      "------------------------------------------------------------------------------\n",
      "const          0.3365      0.586      0.575      0.566      -0.811       1.484\n",
      "==============================================================================\n"
     ]
    }
   ],
   "source": [
    "y_u0 = df_u['Sucesses'] \n",
    "X_u0 = np.ones(len(df_u['Sucesses']))\n",
    "result_u0 = sm.GLM(y_u0, X_u0, family=sm.families.Binomial(sm.families.links.logit)).fit()\n",
    "print(result_u0.summary())"
   ]
  },
  {
   "cell_type": "code",
   "execution_count": 56,
   "metadata": {},
   "outputs": [
    {
     "name": "stdout",
     "output_type": "stream",
     "text": [
      "                 Generalized Linear Model Regression Results                  \n",
      "==============================================================================\n",
      "Dep. Variable:                      y   No. Observations:                    3\n",
      "Model:                            GLM   Df Residuals:                        2\n",
      "Model Family:                Binomial   Df Model:                            0\n",
      "Link Function:                  logit   Scale:                             1.0\n",
      "Method:                          IRLS   Log-Likelihood:                -2.0376\n",
      "Date:                Wed, 15 Nov 2017   Deviance:                       4.5799\n",
      "Time:                        16:05:44   Pearson chi2:                     1.20\n",
      "No. Iterations:                     4                                         \n",
      "==============================================================================\n",
      "                 coef    std err          z      P>|z|      [0.025      0.975]\n",
      "------------------------------------------------------------------------------\n",
      "const          0.3365      1.171      0.287      0.774      -1.959       2.632\n",
      "==============================================================================\n"
     ]
    }
   ],
   "source": [
    "y_g0 = np.array(df_g['Sucesses'] / df_g['Trials'])\n",
    "X_g0 = np.ones(len(df_g['Sucesses']))\n",
    "result_g0 = sm.GLM(y_g0, X_g0, family=sm.families.Binomial(sm.families.links.logit)).fit()\n",
    "print(result_g0.summary())"
   ]
  },
  {
   "cell_type": "code",
   "execution_count": 65,
   "metadata": {},
   "outputs": [
    {
     "name": "stdout",
     "output_type": "stream",
     "text": [
      "                 Generalized Linear Model Regression Results                  \n",
      "==============================================================================\n",
      "Dep. Variable:                      y   No. Observations:                   12\n",
      "Model:                            GLM   Df Residuals:                       10\n",
      "Model Family:                Binomial   Df Model:                            1\n",
      "Link Function:                  logit   Scale:                             1.0\n",
      "Method:                          IRLS   Log-Likelihood:                -5.5141\n",
      "Date:                Wed, 15 Nov 2017   Deviance:                       11.028\n",
      "Time:                        16:08:31   Pearson chi2:                     10.1\n",
      "No. Iterations:                     5                                         \n",
      "==============================================================================\n",
      "                 coef    std err          z      P>|z|      [0.025      0.975]\n",
      "------------------------------------------------------------------------------\n",
      "const         -1.5027      1.181     -1.272      0.203      -3.818       0.813\n",
      "x1             2.0605      1.130      1.823      0.068      -0.154       4.275\n",
      "==============================================================================\n"
     ]
    }
   ],
   "source": [
    "y_u1 = np.array(df_u['Sucesses'])\n",
    "X_u1 = index_u\n",
    "X_u1 = sm.add_constant(X_u1) # adds intercept (\\alpha)\n",
    "result_u1 = sm.GLM(y_u1, X_u1, family=sm.families.Binomial(sm.families.links.logit)).fit()\n",
    "print(result_u1.summary())"
   ]
  },
  {
   "cell_type": "code",
   "execution_count": 66,
   "metadata": {},
   "outputs": [
    {
     "name": "stdout",
     "output_type": "stream",
     "text": [
      "                 Generalized Linear Model Regression Results                  \n",
      "==============================================================================\n",
      "Dep. Variable:                      y   No. Observations:                    3\n",
      "Model:                            GLM   Df Residuals:                        1\n",
      "Model Family:                Binomial   Df Model:                            1\n",
      "Link Function:                  logit   Scale:                             1.0\n",
      "Method:                          IRLS   Log-Likelihood:                -1.3785\n",
      "Date:                Wed, 15 Nov 2017   Deviance:                       2.5635\n",
      "Time:                        16:08:32   Pearson chi2:                    0.184\n",
      "No. Iterations:                     6                                         \n",
      "==============================================================================\n",
      "                 coef    std err          z      P>|z|      [0.025      0.975]\n",
      "------------------------------------------------------------------------------\n",
      "const         -1.5027      2.363     -0.636      0.525      -6.133       3.128\n",
      "x1             2.0605      2.260      0.912      0.362      -2.369       6.490\n",
      "==============================================================================\n"
     ]
    }
   ],
   "source": [
    "y_g1 = np.array(df_g['Sucesses'] / df_g['Trials'])\n",
    "X_g1 = index_g\n",
    "X_g1 = sm.add_constant(X_g1) # adds intercept (\\alpha)\n",
    "result_g1 = sm.GLM(y_g1, X_g1, family=sm.families.Binomial(sm.families.links.logit)).fit()\n",
    "print(result_g1.summary())"
   ]
  },
  {
   "cell_type": "markdown",
   "metadata": {},
   "source": [
    "The maximized log likelihood values of the coefficients are the same for either data entry method for each model. $L_0$ for both the ungrouped and grouped is ($\\alpha = 0.3365$), while $L_1$ for both the ungrouped and grouped is ($\\alpha = -1.5027$, $\\beta = 2.0605$). "
   ]
  },
  {
   "cell_type": "markdown",
   "metadata": {},
   "source": [
    "## part b.\n",
    "\n",
    "The deviances are calculated using $-2\\sum y_i\\log\\frac{y_i}{\\mu_i}$. I have no idea where the GLM deviances from the statsmodels package are coming from, so I'm ignoring them. "
   ]
  },
  {
   "cell_type": "code",
   "execution_count": 72,
   "metadata": {},
   "outputs": [
    {
     "data": {
      "text/plain": [
       "7.5459510102576166"
      ]
     },
     "execution_count": 72,
     "metadata": {},
     "output_type": "execute_result"
    }
   ],
   "source": [
    "y_dev = [i if i != 0 else 1 for i in y_u0] # mathematical trick to avoid taking logs of zero\n",
    "                                        # terms where observed (y) are zero still zero out due to multiplication by \n",
    "                                        # observed value outside of the log\n",
    "2*np.sum(y_u0 * np.log(y_dev/result_u0.predict(X_u0)))\n",
    "# Ungrouped, Model 0"
   ]
  },
  {
   "cell_type": "code",
   "execution_count": 73,
   "metadata": {},
   "outputs": [
    {
     "data": {
      "text/plain": [
       "0.50019339144451425"
      ]
     },
     "execution_count": 73,
     "metadata": {},
     "output_type": "execute_result"
    }
   ],
   "source": [
    "y_dev = [i if i != 0 else 1 for i in y_g0]\n",
    "2*np.sum(y_g0 * np.log(y_dev/result_g0.predict(X_g0)))\n",
    "# Grouped, Model 0"
   ]
  },
  {
   "cell_type": "code",
   "execution_count": 74,
   "metadata": {},
   "outputs": [
    {
     "data": {
      "text/plain": [
       "5.7809068798934549"
      ]
     },
     "execution_count": 74,
     "metadata": {},
     "output_type": "execute_result"
    }
   ],
   "source": [
    "y_dev = [i if i != 0 else 1 for i in y_u1]\n",
    "2*np.sum(y_u1 * np.log(y_dev/result_u1.predict(X_u1)))\n",
    "# Ungrouped, Model 1"
   ]
  },
  {
   "cell_type": "code",
   "execution_count": 75,
   "metadata": {},
   "outputs": [
    {
     "data": {
      "text/plain": [
       "0.058932358853473782"
      ]
     },
     "execution_count": 75,
     "metadata": {},
     "output_type": "execute_result"
    }
   ],
   "source": [
    "y_dev = [i if i != 0 else 1 for i in y_g1]\n",
    "2*np.sum(y_g1 * np.log(y_dev/result_g1.predict(X_g1)))\n",
    "# Grouped, Model 1"
   ]
  },
  {
   "cell_type": "markdown",
   "metadata": {},
   "source": [
    "The deviances are significantly higher for the ungrouped data than they are for the grouped data. This is a function of the number of parameters in a saturated model. There are 12 data points in the ungrouped set, while there are only 3 in the grouped set. Since unscaled deviance is a sum of deviance residuals, more data points will result in a higher deviance. "
   ]
  },
  {
   "cell_type": "markdown",
   "metadata": {},
   "source": [
    "# Part c.\n",
    "\n",
    "I did not observe that the difference between deviances for M_0 and M_1 is the same for each form of data entry."
   ]
  },
  {
   "cell_type": "markdown",
   "metadata": {},
   "source": [
    "# Problem 4.12"
   ]
  },
  {
   "cell_type": "markdown",
   "metadata": {},
   "source": [
    "## part a.\n",
    "\n",
    "There are 63 parameters in the saturated model, from 3 H times 3 S times 7 T categories. There are 11 parameters in the fitted model, including 1 constant, 2 H, 2 S, and 6 T. The difference is the degrees of freedom: 52.\n",
    "\n",
    "The p-value of the deviance is the chi-squared distribution with degrees of freedom equal to the model's will tell us whether the fit is good or not."
   ]
  },
  {
   "cell_type": "code",
   "execution_count": 1,
   "metadata": {},
   "outputs": [
    {
     "data": {
      "text/plain": [
       "0.78035694250244336"
      ]
     },
     "execution_count": 1,
     "metadata": {},
     "output_type": "execute_result"
    }
   ],
   "source": [
    "from scipy.stats import chi2\n",
    "1-chi2.cdf(43.9, 52)"
   ]
  },
  {
   "cell_type": "markdown",
   "metadata": {},
   "source": [
    "Due to the high p-value, the fit appears to be poor"
   ]
  },
  {
   "cell_type": "markdown",
   "metadata": {},
   "source": [
    "## part b.\n",
    "\n",
    "In both cases, the standard error is less than the magnitude of the parameter coefficient. A 95 percent confidence interval for these effects are:"
   ]
  },
  {
   "cell_type": "code",
   "execution_count": 91,
   "metadata": {},
   "outputs": [],
   "source": [
    "s2 = .470; s2se = .174; s3 = 1.324; s3se = .152\n",
    "from scipy.stats import norm"
   ]
  },
  {
   "cell_type": "code",
   "execution_count": 92,
   "metadata": {},
   "outputs": [
    {
     "data": {
      "text/plain": [
       "(0.12896626669003053, 0.81103373330996942)"
      ]
     },
     "execution_count": 92,
     "metadata": {},
     "output_type": "execute_result"
    }
   ],
   "source": [
    "(s2 + norm.ppf(0.025)*s2se, s2 - norm.ppf(0.025)*s2se)"
   ]
  },
  {
   "cell_type": "code",
   "execution_count": 93,
   "metadata": {},
   "outputs": [
    {
     "data": {
      "text/plain": [
       "(1.0260854743499117, 1.6219145256500884)"
      ]
     },
     "execution_count": 93,
     "metadata": {},
     "output_type": "execute_result"
    }
   ],
   "source": [
    "(s3 + norm.ppf(0.025)*s3se, s3 - norm.ppf(0.025)*s3se)"
   ]
  },
  {
   "cell_type": "markdown",
   "metadata": {},
   "source": [
    "We see that both effects are likely to be non-zero, and that we can be relatively more confident of the effect of S = 3 than S = 2."
   ]
  },
  {
   "cell_type": "markdown",
   "metadata": {},
   "source": [
    "## part c.\n",
    "\n",
    "Adding this term decreased the deviance by 2.4 but the degrees of freedom by 4. This implies that there was not much improvement in the model. This is borne out by checking the chi-square p-values again"
   ]
  },
  {
   "cell_type": "code",
   "execution_count": 96,
   "metadata": {},
   "outputs": [
    {
     "data": {
      "text/plain": [
       "0.73468876717479104"
      ]
     },
     "execution_count": 96,
     "metadata": {},
     "output_type": "execute_result"
    }
   ],
   "source": [
    "1-chi2.cdf(41.5, 48)"
   ]
  },
  {
   "cell_type": "markdown",
   "metadata": {},
   "source": [
    "While marginally better, this p-value still implies a poor fit. "
   ]
  }
 ],
 "metadata": {
  "kernelspec": {
   "display_name": "Python 3",
   "language": "python",
   "name": "python3"
  },
  "language_info": {
   "codemirror_mode": {
    "name": "ipython",
    "version": 3
   },
   "file_extension": ".py",
   "mimetype": "text/x-python",
   "name": "python",
   "nbconvert_exporter": "python",
   "pygments_lexer": "ipython3",
   "version": "3.5.2"
  }
 },
 "nbformat": 4,
 "nbformat_minor": 2
}
