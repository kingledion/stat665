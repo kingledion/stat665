{
 "cells": [
  {
   "cell_type": "markdown",
   "metadata": {},
   "source": [
    "# Problem 4.3"
   ]
  },
  {
   "cell_type": "markdown",
   "metadata": {},
   "source": [
    "## part a.\n"
   ]
  },
  {
   "cell_type": "code",
   "execution_count": 77,
   "metadata": {},
   "outputs": [],
   "source": [
    "import pandas as pd, numpy as np, statsmodels.api as sm\n",
    "from statsmodels.formula.api import glm"
   ]
  },
  {
   "cell_type": "code",
   "execution_count": 69,
   "metadata": {},
   "outputs": [],
   "source": [
    "H = [1, 2, 3] # represents histologies I, II, III\n",
    "S = [1, 2, 3] # represents disease stages 1, 2, 3\n",
    "T = [1, 3, 5, 7, 9, 11, 13]# represents time intervals '0-2', '2-4', '4-6', '6-8', '8-10', '10-12', '12+']\n",
    "                            # the 13 in particular might not be a good interval. I'd have to look at the underlying\n",
    "                            # data to see what range the 12+ category covers\n"
   ]
  },
  {
   "cell_type": "markdown",
   "metadata": {},
   "source": [
    "We have three categorical parameters with 3, 3, and 7 categories in each. There are also two response variables, expected number of deaths, $\\mu_{ijk}$, and total time at risk, $t_{ijk}$. However, since in the model we use $\\log{\\left(\\mu_{ijk}/t_{ijk}\\right)}$, there is really only one response variable, $v_{ijk} = \\log{\\left(\\mu_{ijk}/t_{ijk}\\right)}$, that we can calculate for any points $i, j, k$. \n",
    "\n",
    "Since I'm a python user, and not R, I'm going to build the design matrix directly dataframe, from a csv file, from a spreadsheet."
   ]
  },
  {
   "cell_type": "code",
   "execution_count": 70,
   "metadata": {},
   "outputs": [],
   "source": [
    "with open(\"/opt/school/stat665/hw4/4_12_dataset.csv\") as csv_in:\n",
    "    df = pd.read_csv(csv_in, names = ['mu', 't', 'H', 'S', 'T'])"
   ]
  },
  {
   "cell_type": "code",
   "execution_count": 71,
   "metadata": {},
   "outputs": [
    {
     "name": "stderr",
     "output_type": "stream",
     "text": [
      "/usr/local/lib/python3.5/dist-packages/ipykernel_launcher.py:1: RuntimeWarning: divide by zero encountered in log\n",
      "  \"\"\"Entry point for launching an IPython kernel.\n"
     ]
    },
    {
     "data": {
      "text/plain": [
       "43   -2.833213\n",
       "44   -2.639057\n",
       "45   -2.484907\n",
       "46        -inf\n",
       "47   -2.079442\n",
       "48        -inf\n",
       "49   -3.091042\n",
       "50   -2.890372\n",
       "51   -1.540445\n",
       "52   -2.302585\n",
       "53        -inf\n",
       "54        -inf\n",
       "55   -1.098612\n",
       "56   -1.670682\n",
       "57   -1.745239\n",
       "58   -1.815290\n",
       "59   -1.673976\n",
       "60   -1.945910\n",
       "61   -1.540445\n",
       "62   -1.203973\n",
       "dtype: float64"
      ]
     },
     "execution_count": 71,
     "metadata": {},
     "output_type": "execute_result"
    }
   ],
   "source": [
    "y = np.log(df['mu']/df['t'])\n",
    "y[-20:] #display the last 20 values for analysis"
   ]
  },
  {
   "cell_type": "code",
   "execution_count": 79,
   "metadata": {},
   "outputs": [
    {
     "name": "stderr",
     "output_type": "stream",
     "text": [
      "/usr/local/lib/python3.5/dist-packages/ipykernel_launcher.py:1: RuntimeWarning: divide by zero encountered in log\n",
      "  \"\"\"Entry point for launching an IPython kernel.\n"
     ]
    },
    {
     "data": {
      "text/html": [
       "<div>\n",
       "<table border=\"1\" class=\"dataframe\">\n",
       "  <thead>\n",
       "    <tr style=\"text-align: right;\">\n",
       "      <th></th>\n",
       "      <th>mu</th>\n",
       "      <th>t</th>\n",
       "      <th>H</th>\n",
       "      <th>S</th>\n",
       "      <th>T</th>\n",
       "      <th>logMuT</th>\n",
       "    </tr>\n",
       "  </thead>\n",
       "  <tbody>\n",
       "    <tr>\n",
       "      <th>43</th>\n",
       "      <td>1</td>\n",
       "      <td>17</td>\n",
       "      <td>3</td>\n",
       "      <td>1</td>\n",
       "      <td>3</td>\n",
       "      <td>-2.833213</td>\n",
       "    </tr>\n",
       "    <tr>\n",
       "      <th>44</th>\n",
       "      <td>1</td>\n",
       "      <td>14</td>\n",
       "      <td>3</td>\n",
       "      <td>1</td>\n",
       "      <td>5</td>\n",
       "      <td>-2.639057</td>\n",
       "    </tr>\n",
       "    <tr>\n",
       "      <th>45</th>\n",
       "      <td>1</td>\n",
       "      <td>12</td>\n",
       "      <td>3</td>\n",
       "      <td>1</td>\n",
       "      <td>7</td>\n",
       "      <td>-2.484907</td>\n",
       "    </tr>\n",
       "    <tr>\n",
       "      <th>46</th>\n",
       "      <td>0</td>\n",
       "      <td>10</td>\n",
       "      <td>3</td>\n",
       "      <td>1</td>\n",
       "      <td>9</td>\n",
       "      <td>-inf</td>\n",
       "    </tr>\n",
       "    <tr>\n",
       "      <th>47</th>\n",
       "      <td>1</td>\n",
       "      <td>8</td>\n",
       "      <td>3</td>\n",
       "      <td>1</td>\n",
       "      <td>11</td>\n",
       "      <td>-2.079442</td>\n",
       "    </tr>\n",
       "    <tr>\n",
       "      <th>48</th>\n",
       "      <td>0</td>\n",
       "      <td>6</td>\n",
       "      <td>3</td>\n",
       "      <td>1</td>\n",
       "      <td>13</td>\n",
       "      <td>-inf</td>\n",
       "    </tr>\n",
       "    <tr>\n",
       "      <th>49</th>\n",
       "      <td>1</td>\n",
       "      <td>22</td>\n",
       "      <td>3</td>\n",
       "      <td>2</td>\n",
       "      <td>1</td>\n",
       "      <td>-3.091042</td>\n",
       "    </tr>\n",
       "    <tr>\n",
       "      <th>50</th>\n",
       "      <td>1</td>\n",
       "      <td>18</td>\n",
       "      <td>3</td>\n",
       "      <td>2</td>\n",
       "      <td>3</td>\n",
       "      <td>-2.890372</td>\n",
       "    </tr>\n",
       "    <tr>\n",
       "      <th>51</th>\n",
       "      <td>3</td>\n",
       "      <td>14</td>\n",
       "      <td>3</td>\n",
       "      <td>2</td>\n",
       "      <td>5</td>\n",
       "      <td>-1.540445</td>\n",
       "    </tr>\n",
       "    <tr>\n",
       "      <th>52</th>\n",
       "      <td>1</td>\n",
       "      <td>10</td>\n",
       "      <td>3</td>\n",
       "      <td>2</td>\n",
       "      <td>7</td>\n",
       "      <td>-2.302585</td>\n",
       "    </tr>\n",
       "    <tr>\n",
       "      <th>53</th>\n",
       "      <td>0</td>\n",
       "      <td>8</td>\n",
       "      <td>3</td>\n",
       "      <td>2</td>\n",
       "      <td>9</td>\n",
       "      <td>-inf</td>\n",
       "    </tr>\n",
       "    <tr>\n",
       "      <th>54</th>\n",
       "      <td>0</td>\n",
       "      <td>8</td>\n",
       "      <td>3</td>\n",
       "      <td>2</td>\n",
       "      <td>11</td>\n",
       "      <td>-inf</td>\n",
       "    </tr>\n",
       "    <tr>\n",
       "      <th>55</th>\n",
       "      <td>2</td>\n",
       "      <td>6</td>\n",
       "      <td>3</td>\n",
       "      <td>2</td>\n",
       "      <td>13</td>\n",
       "      <td>-1.098612</td>\n",
       "    </tr>\n",
       "    <tr>\n",
       "      <th>56</th>\n",
       "      <td>19</td>\n",
       "      <td>101</td>\n",
       "      <td>3</td>\n",
       "      <td>3</td>\n",
       "      <td>1</td>\n",
       "      <td>-1.670682</td>\n",
       "    </tr>\n",
       "    <tr>\n",
       "      <th>57</th>\n",
       "      <td>11</td>\n",
       "      <td>63</td>\n",
       "      <td>3</td>\n",
       "      <td>3</td>\n",
       "      <td>3</td>\n",
       "      <td>-1.745239</td>\n",
       "    </tr>\n",
       "    <tr>\n",
       "      <th>58</th>\n",
       "      <td>7</td>\n",
       "      <td>43</td>\n",
       "      <td>3</td>\n",
       "      <td>3</td>\n",
       "      <td>5</td>\n",
       "      <td>-1.815290</td>\n",
       "    </tr>\n",
       "    <tr>\n",
       "      <th>59</th>\n",
       "      <td>6</td>\n",
       "      <td>32</td>\n",
       "      <td>3</td>\n",
       "      <td>3</td>\n",
       "      <td>7</td>\n",
       "      <td>-1.673976</td>\n",
       "    </tr>\n",
       "    <tr>\n",
       "      <th>60</th>\n",
       "      <td>3</td>\n",
       "      <td>21</td>\n",
       "      <td>3</td>\n",
       "      <td>3</td>\n",
       "      <td>9</td>\n",
       "      <td>-1.945910</td>\n",
       "    </tr>\n",
       "    <tr>\n",
       "      <th>61</th>\n",
       "      <td>3</td>\n",
       "      <td>14</td>\n",
       "      <td>3</td>\n",
       "      <td>3</td>\n",
       "      <td>11</td>\n",
       "      <td>-1.540445</td>\n",
       "    </tr>\n",
       "    <tr>\n",
       "      <th>62</th>\n",
       "      <td>3</td>\n",
       "      <td>10</td>\n",
       "      <td>3</td>\n",
       "      <td>3</td>\n",
       "      <td>13</td>\n",
       "      <td>-1.203973</td>\n",
       "    </tr>\n",
       "  </tbody>\n",
       "</table>\n",
       "</div>"
      ],
      "text/plain": [
       "    mu    t  H  S   T    logMuT\n",
       "43   1   17  3  1   3 -2.833213\n",
       "44   1   14  3  1   5 -2.639057\n",
       "45   1   12  3  1   7 -2.484907\n",
       "46   0   10  3  1   9      -inf\n",
       "47   1    8  3  1  11 -2.079442\n",
       "48   0    6  3  1  13      -inf\n",
       "49   1   22  3  2   1 -3.091042\n",
       "50   1   18  3  2   3 -2.890372\n",
       "51   3   14  3  2   5 -1.540445\n",
       "52   1   10  3  2   7 -2.302585\n",
       "53   0    8  3  2   9      -inf\n",
       "54   0    8  3  2  11      -inf\n",
       "55   2    6  3  2  13 -1.098612\n",
       "56  19  101  3  3   1 -1.670682\n",
       "57  11   63  3  3   3 -1.745239\n",
       "58   7   43  3  3   5 -1.815290\n",
       "59   6   32  3  3   7 -1.673976\n",
       "60   3   21  3  3   9 -1.945910\n",
       "61   3   14  3  3  11 -1.540445\n",
       "62   3   10  3  3  13 -1.203973"
      ]
     },
     "execution_count": 79,
     "metadata": {},
     "output_type": "execute_result"
    }
   ],
   "source": [
    "df[\"logMuT\"] = np.log(df['mu']/df['t'])\n",
    "df[-20:]"
   ]
  },
  {
   "cell_type": "markdown",
   "metadata": {},
   "source": [
    "As we can see, the cells where $\\mu$ is zero will not behave well in a log-linear model, and should be eliminated. This is done by using as our input matrix only those rows where $\\mu != 0$."
   ]
  },
  {
   "cell_type": "code",
   "execution_count": 78,
   "metadata": {},
   "outputs": [
    {
     "name": "stdout",
     "output_type": "stream",
     "text": [
      "                 Generalized Linear Model Regression Results                  \n",
      "==============================================================================\n",
      "Dep. Variable:                 logMuT   No. Observations:                   58\n",
      "Model:                            GLM   Df Residuals:                       47\n",
      "Model Family:                Gaussian   Df Model:                           10\n",
      "Link Function:               identity   Scale:                  0.271188015978\n",
      "Method:                          IRLS   Log-Likelihood:                -38.357\n",
      "Date:                Tue, 14 Nov 2017   Deviance:                       12.746\n",
      "Time:                        19:28:27   Pearson chi2:                     12.7\n",
      "No. Iterations:                     2                                         \n",
      "==============================================================================\n",
      "                 coef    std err          z      P>|z|      [0.025      0.975]\n",
      "------------------------------------------------------------------------------\n",
      "Intercept     -3.3364      0.220    -15.143      0.000      -3.768      -2.905\n",
      "C(H)[T.2]      0.2975      0.163      1.824      0.068      -0.022       0.617\n",
      "C(H)[T.3]      0.5364      0.172      3.123      0.002       0.200       0.873\n",
      "C(S)[T.2]      0.5591      0.170      3.298      0.001       0.227       0.891\n",
      "C(S)[T.3]      1.3351      0.168      7.963      0.000       1.006       1.664\n",
      "C(T)[T.3]     -0.2421      0.245     -0.986      0.324      -0.723       0.239\n",
      "C(T)[T.5]      0.1454      0.245      0.592      0.554      -0.336       0.627\n",
      "C(T)[T.7]      0.2167      0.245      0.883      0.377      -0.264       0.698\n",
      "C(T)[T.9]     -0.4083      0.276     -1.480      0.139      -0.949       0.133\n",
      "C(T)[T.11]    -0.0784      0.254     -0.309      0.757      -0.576       0.419\n",
      "C(T)[T.13]     0.0317      0.254      0.125      0.900      -0.465       0.529\n",
      "==============================================================================\n"
     ]
    }
   ],
   "source": [
    "lm = glm('logMuT ~ C(H) + C(S) + C(T)', df.loc[df['mu'] != 0], family=sm.families.Gaussian()).fit()\n",
    "print(lm.summary())"
   ]
  },
  {
   "cell_type": "code",
   "execution_count": null,
   "metadata": {},
   "outputs": [],
   "source": [
    "The degrees of freedom are 52 in this table because there are "
   ]
  },
  {
   "cell_type": "code",
   "execution_count": 83,
   "metadata": {},
   "outputs": [
    {
     "name": "stdout",
     "output_type": "stream",
     "text": [
      "                 Generalized Linear Model Regression Results                  \n",
      "==============================================================================\n",
      "Dep. Variable:                 logMuT   No. Observations:                   58\n",
      "Model:                            GLM   Df Residuals:                       43\n",
      "Model Family:                Gaussian   Df Model:                           14\n",
      "Link Function:               identity   Scale:                  0.264461835785\n",
      "Method:                          IRLS   Log-Likelihood:                -35.049\n",
      "Date:                Tue, 14 Nov 2017   Deviance:                       11.372\n",
      "Time:                        19:42:08   Pearson chi2:                     11.4\n",
      "No. Iterations:                     2                                         \n",
      "=======================================================================================\n",
      "                          coef    std err          z      P>|z|      [0.025      0.975]\n",
      "---------------------------------------------------------------------------------------\n",
      "Intercept              -3.4209      0.252    -13.570      0.000      -3.915      -2.927\n",
      "C(H)[T.2]               0.3117      0.275      1.134      0.257      -0.227       0.850\n",
      "C(H)[T.3]               0.7959      0.305      2.612      0.009       0.199       1.393\n",
      "C(S)[T.2]               0.7966      0.275      2.898      0.004       0.258       1.335\n",
      "C(S)[T.3]               1.3069      0.275      4.754      0.000       0.768       1.846\n",
      "C(T)[T.3]              -0.2421      0.242     -0.999      0.318      -0.717       0.233\n",
      "C(T)[T.5]               0.1454      0.242      0.600      0.549      -0.330       0.621\n",
      "C(T)[T.7]               0.2167      0.242      0.894      0.371      -0.258       0.692\n",
      "C(T)[T.9]              -0.3292      0.276     -1.193      0.233      -0.870       0.212\n",
      "C(T)[T.11]             -0.0757      0.251     -0.301      0.763      -0.568       0.417\n",
      "C(T)[T.13]              0.0536      0.251      0.213      0.831      -0.439       0.546\n",
      "C(S)[T.2]:C(H)[T.2]    -0.3681      0.389     -0.947      0.344      -1.130       0.394\n",
      "C(S)[T.3]:C(H)[T.2]     0.3766      0.398      0.946      0.344      -0.404       1.157\n",
      "C(S)[T.2]:C(H)[T.3]    -0.3908      0.429     -0.911      0.362      -1.232       0.450\n",
      "C(S)[T.3]:C(H)[T.3]    -0.3052      0.410     -0.744      0.457      -1.110       0.499\n",
      "=======================================================================================\n"
     ]
    }
   ],
   "source": [
    "lm = glm('logMuT ~ C(H) + C(S) + C(T) + C(S)*C(H)', df.loc[df['mu'] != 0], family=sm.families.Gaussian()).fit()\n",
    "print(lm.summary())"
   ]
  },
  {
   "cell_type": "markdown",
   "metadata": {},
   "source": [
    "The degrees of freedom are lowered by four because there are now four additional additional parameters in the fitted model, corresponding with all combinations of 2 H and 2 S parameters."
   ]
  },
  {
   "cell_type": "code",
   "execution_count": null,
   "metadata": {},
   "outputs": [],
   "source": []
  }
 ],
 "metadata": {
  "kernelspec": {
   "display_name": "Python 3",
   "language": "python",
   "name": "python3"
  },
  "language_info": {
   "codemirror_mode": {
    "name": "ipython",
    "version": 3
   },
   "file_extension": ".py",
   "mimetype": "text/x-python",
   "name": "python",
   "nbconvert_exporter": "python",
   "pygments_lexer": "ipython3",
   "version": "3.5.2"
  }
 },
 "nbformat": 4,
 "nbformat_minor": 2
}
