{
 "cells": [
  {
   "cell_type": "code",
   "execution_count": 1,
   "metadata": {},
   "outputs": [],
   "source": [
    "import mysql.connector, pandas as pd, numpy as np\n",
    "from matplotlib import pyplot as plt\n",
    "from scipy import stats"
   ]
  },
  {
   "cell_type": "code",
   "execution_count": 2,
   "metadata": {},
   "outputs": [],
   "source": [
    "cnx = mysql.connector.connect(user='dbuser', password='dbpass', database='zipcode')\n",
    "cursor = cnx.cursor()"
   ]
  },
  {
   "cell_type": "code",
   "execution_count": 3,
   "metadata": {},
   "outputs": [],
   "source": [
    "fields = ['population',\n",
    "          'employment',\n",
    "          'area',\n",
    "          'hunits',\n",
    "          'sing_det',\n",
    "          'sing_att',\n",
    "          'duplex',\n",
    "          'three_four',\n",
    "          'five_nine',\n",
    "          'ten_nineteen',\n",
    "          'twenty_plus',\n",
    "          '2014_later',\n",
    "          '2010_2013',\n",
    "          '2000_2009',\n",
    "          '1990_1999',\n",
    "          '1980_1989',\n",
    "          '1970_1979',\n",
    "          '1960_1969',\n",
    "          '1950_1959',\n",
    "          '1940_1949',\n",
    "          '1939_older']\n",
    "type_cat = ['sing_det',\n",
    "          'sing_att',\n",
    "          'duplex',\n",
    "          'three_four',\n",
    "          'five_nine',\n",
    "          'ten_nineteen',\n",
    "          'twenty_plus']\n",
    "age_cat = ['2000_2009',\n",
    "          '1990_1999',\n",
    "          '1980_1989',\n",
    "          '1970_1979',\n",
    "          '1960_1969',\n",
    "          '1950_1959',\n",
    "          '1940_1949',\n",
    "          '1939_older']"
   ]
  },
  {
   "cell_type": "code",
   "execution_count": 4,
   "metadata": {},
   "outputs": [],
   "source": [
    "cursor.execute(\"SELECT {0} FROM zip_housing;\".format(\", \".join(fields)))\n",
    "rawdata = cursor.fetchall()\n",
    "df = pd.DataFrame(rawdata, columns = fields)\n",
    "df = df.drop(df[df.hunits==0].index) # remove rows with zero housing units!"
   ]
  },
  {
   "cell_type": "code",
   "execution_count": 5,
   "metadata": {},
   "outputs": [
    {
     "data": {
      "text/plain": [
       "(134913539, 126319534, 134913539)"
      ]
     },
     "execution_count": 5,
     "metadata": {},
     "output_type": "execute_result"
    }
   ],
   "source": [
    "sum(df['hunits']), sum(df[type_cat].sum(axis=0)), sum(df[['2014_later','2010_2013'] + age_cat].sum(axis=0))"
   ]
  },
  {
   "cell_type": "markdown",
   "metadata": {},
   "source": [
    "Note that the number of housing units counted in the date ranges is not the same as the number of units counted by type!"
   ]
  },
  {
   "cell_type": "code",
   "execution_count": 6,
   "metadata": {},
   "outputs": [
    {
     "data": {
      "image/png": "[encoded data removed]",
      "text/plain": [
       "<matplotlib.figure.Figure at 0x7f0ebf3c54a8>"
      ]
     },
     "metadata": {},
     "output_type": "display_data"
    }
   ],
   "source": [
    "data = {k: v for k, v in enumerate(df[type_cat].sum(axis=0))}\n",
    "ax = plt.subplot()\n",
    "ax.hist(list(data.keys()), weights=list(data.values()), bins=7)\n",
    "ax.set_xticklabels(type_cat, rotation=45)\n",
    "plt.show()"
   ]
  },
  {
   "cell_type": "code",
   "execution_count": 7,
   "metadata": {},
   "outputs": [
    {
     "data": {
      "image/png": "[encoded data removed]",
      "text/plain": [
       "<matplotlib.figure.Figure at 0x7f0ebf3c5438>"
      ]
     },
     "metadata": {},
     "output_type": "display_data"
    }
   ],
   "source": [
    "d = df.sum(axis=0)[-10:]\n",
    "newd = np.hstack([[d[0] + d[1]], d[2:]]) # Combine 2010-2013 and 2014+ into one category\n",
    "data = {k: v for k, v in enumerate(newd)}\n",
    "ax = plt.subplot()\n",
    "ax.hist(list(data.keys()), weights=list(data.values()), bins=9)\n",
    "ax.set_xticklabels(['2010+'] + age_cat, rotation=45)\n",
    "plt.show()"
   ]
  },
  {
   "cell_type": "code",
   "execution_count": 8,
   "metadata": {},
   "outputs": [
    {
     "data": {
      "text/html": [
       "<div>\n",
       "<table border=\"1\" class=\"dataframe\">\n",
       "  <thead>\n",
       "    <tr style=\"text-align: right;\">\n",
       "      <th></th>\n",
       "      <th>2000_2009</th>\n",
       "      <th>1990_1999</th>\n",
       "      <th>1980_1989</th>\n",
       "      <th>1970_1979</th>\n",
       "      <th>1960_1969</th>\n",
       "      <th>1950_1959</th>\n",
       "      <th>1940_1949</th>\n",
       "      <th>1939_older</th>\n",
       "    </tr>\n",
       "  </thead>\n",
       "  <tbody>\n",
       "    <tr>\n",
       "      <th>sing_det</th>\n",
       "      <td>13231648</td>\n",
       "      <td>12383720</td>\n",
       "      <td>11622307</td>\n",
       "      <td>13186186</td>\n",
       "      <td>8981531</td>\n",
       "      <td>8881509</td>\n",
       "      <td>4171739</td>\n",
       "      <td>9434389</td>\n",
       "    </tr>\n",
       "    <tr>\n",
       "      <th>sing_att</th>\n",
       "      <td>1080944</td>\n",
       "      <td>1057279</td>\n",
       "      <td>1117296</td>\n",
       "      <td>1219262</td>\n",
       "      <td>876154</td>\n",
       "      <td>868056</td>\n",
       "      <td>460750</td>\n",
       "      <td>1147528</td>\n",
       "    </tr>\n",
       "    <tr>\n",
       "      <th>duplex</th>\n",
       "      <td>481991</td>\n",
       "      <td>451096</td>\n",
       "      <td>493335</td>\n",
       "      <td>639427</td>\n",
       "      <td>569156</td>\n",
       "      <td>650298</td>\n",
       "      <td>396436</td>\n",
       "      <td>1294500</td>\n",
       "    </tr>\n",
       "    <tr>\n",
       "      <th>three_four</th>\n",
       "      <td>672204</td>\n",
       "      <td>645731</td>\n",
       "      <td>725539</td>\n",
       "      <td>887440</td>\n",
       "      <td>686525</td>\n",
       "      <td>689152</td>\n",
       "      <td>380892</td>\n",
       "      <td>1204765</td>\n",
       "    </tr>\n",
       "    <tr>\n",
       "      <th>five_nine</th>\n",
       "      <td>825655</td>\n",
       "      <td>819087</td>\n",
       "      <td>911708</td>\n",
       "      <td>1061701</td>\n",
       "      <td>763556</td>\n",
       "      <td>704955</td>\n",
       "      <td>345267</td>\n",
       "      <td>925055</td>\n",
       "    </tr>\n",
       "    <tr>\n",
       "      <th>ten_nineteen</th>\n",
       "      <td>829216</td>\n",
       "      <td>805582</td>\n",
       "      <td>907553</td>\n",
       "      <td>1026481</td>\n",
       "      <td>719441</td>\n",
       "      <td>644608</td>\n",
       "      <td>296961</td>\n",
       "      <td>730331</td>\n",
       "    </tr>\n",
       "    <tr>\n",
       "      <th>twenty_plus</th>\n",
       "      <td>1456613</td>\n",
       "      <td>1206455</td>\n",
       "      <td>1436357</td>\n",
       "      <td>1784572</td>\n",
       "      <td>1436910</td>\n",
       "      <td>1335572</td>\n",
       "      <td>694701</td>\n",
       "      <td>2119241</td>\n",
       "    </tr>\n",
       "  </tbody>\n",
       "</table>\n",
       "</div>"
      ],
      "text/plain": [
       "              2000_2009  1990_1999  1980_1989  1970_1979  1960_1969  \\\n",
       "sing_det       13231648   12383720   11622307   13186186    8981531   \n",
       "sing_att        1080944    1057279    1117296    1219262     876154   \n",
       "duplex           481991     451096     493335     639427     569156   \n",
       "three_four       672204     645731     725539     887440     686525   \n",
       "five_nine        825655     819087     911708    1061701     763556   \n",
       "ten_nineteen     829216     805582     907553    1026481     719441   \n",
       "twenty_plus     1456613    1206455    1436357    1784572    1436910   \n",
       "\n",
       "              1950_1959  1940_1949  1939_older  \n",
       "sing_det        8881509    4171739     9434389  \n",
       "sing_att         868056     460750     1147528  \n",
       "duplex           650298     396436     1294500  \n",
       "three_four       689152     380892     1204765  \n",
       "five_nine        704955     345267      925055  \n",
       "ten_nineteen     644608     296961      730331  \n",
       "twenty_plus     1335572     694701     2119241  "
      ]
     },
     "execution_count": 8,
     "metadata": {},
     "output_type": "execute_result"
    }
   ],
   "source": [
    "cat_data = np.empty((7, 8))\n",
    "for i, row in enumerate(type_cat):\n",
    "    for j, col in enumerate(age_cat):\n",
    "        cat_data[i, j] = sum(df[row]*df[col]/df['hunits'])\n",
    "trutab = pd.DataFrame(cat_data, index=type_cat, columns=age_cat, dtype=int)\n",
    "trutab"
   ]
  },
  {
   "cell_type": "markdown",
   "metadata": {},
   "source": [
    "Here are the results of a $\\chi^2$ test of independence"
   ]
  },
  {
   "cell_type": "code",
   "execution_count": 9,
   "metadata": {},
   "outputs": [
    {
     "data": {
      "text/plain": [
       "(2146451.9082430019, 0.0)"
      ]
     },
     "execution_count": 9,
     "metadata": {},
     "output_type": "execute_result"
    }
   ],
   "source": [
    "chi2, p, dof, exps = stats.chi2_contingency(trutab)\n",
    "exptab = pd.DataFrame(exps, index=type_cat, columns=age_cat, dtype=int)\n",
    "chi2, p"
   ]
  },
  {
   "cell_type": "markdown",
   "metadata": {},
   "source": [
    "With a $p$ value of 0 we can, with very high confidence, reject the hull hypothesis that building type and age are independent. "
   ]
  },
  {
   "cell_type": "code",
   "execution_count": 10,
   "metadata": {},
   "outputs": [
    {
     "data": {
      "text/html": [
       "<div>\n",
       "<table border=\"1\" class=\"dataframe\">\n",
       "  <thead>\n",
       "    <tr style=\"text-align: right;\">\n",
       "      <th></th>\n",
       "      <th>2000_2009</th>\n",
       "      <th>1990_1999</th>\n",
       "      <th>1980_1989</th>\n",
       "      <th>1970_1979</th>\n",
       "      <th>1960_1969</th>\n",
       "      <th>1950_1959</th>\n",
       "      <th>1940_1949</th>\n",
       "      <th>1939_older</th>\n",
       "    </tr>\n",
       "  </thead>\n",
       "  <tbody>\n",
       "    <tr>\n",
       "      <th>sing_det</th>\n",
       "      <td>0.081682</td>\n",
       "      <td>0.082851</td>\n",
       "      <td>0.025414</td>\n",
       "      <td>0.011192</td>\n",
       "      <td>-0.027964</td>\n",
       "      <td>-0.020706</td>\n",
       "      <td>-0.060896</td>\n",
       "      <td>-0.149929</td>\n",
       "    </tr>\n",
       "    <tr>\n",
       "      <th>sing_att</th>\n",
       "      <td>-0.075460</td>\n",
       "      <td>-0.032738</td>\n",
       "      <td>0.031364</td>\n",
       "      <td>-0.021753</td>\n",
       "      <td>-0.007914</td>\n",
       "      <td>0.001407</td>\n",
       "      <td>0.085172</td>\n",
       "      <td>0.081787</td>\n",
       "    </tr>\n",
       "    <tr>\n",
       "      <th>duplex</th>\n",
       "      <td>-0.351559</td>\n",
       "      <td>-0.350869</td>\n",
       "      <td>-0.283700</td>\n",
       "      <td>-0.193041</td>\n",
       "      <td>0.013700</td>\n",
       "      <td>0.180006</td>\n",
       "      <td>0.468640</td>\n",
       "      <td>0.919507</td>\n",
       "    </tr>\n",
       "    <tr>\n",
       "      <th>three_four</th>\n",
       "      <td>-0.236247</td>\n",
       "      <td>-0.215243</td>\n",
       "      <td>-0.110320</td>\n",
       "      <td>-0.054156</td>\n",
       "      <td>0.032653</td>\n",
       "      <td>0.056105</td>\n",
       "      <td>0.191695</td>\n",
       "      <td>0.508725</td>\n",
       "    </tr>\n",
       "    <tr>\n",
       "      <th>five_nine</th>\n",
       "      <td>-0.130479</td>\n",
       "      <td>-0.077337</td>\n",
       "      <td>0.036236</td>\n",
       "      <td>0.048848</td>\n",
       "      <td>0.064558</td>\n",
       "      <td>0.001345</td>\n",
       "      <td>0.001261</td>\n",
       "      <td>0.073754</td>\n",
       "    </tr>\n",
       "    <tr>\n",
       "      <th>ten_nineteen</th>\n",
       "      <td>-0.068589</td>\n",
       "      <td>-0.032134</td>\n",
       "      <td>0.100188</td>\n",
       "      <td>0.081567</td>\n",
       "      <td>0.069833</td>\n",
       "      <td>-0.023414</td>\n",
       "      <td>-0.081489</td>\n",
       "      <td>-0.095832</td>\n",
       "    </tr>\n",
       "    <tr>\n",
       "      <th>twenty_plus</th>\n",
       "      <td>-0.149846</td>\n",
       "      <td>-0.246825</td>\n",
       "      <td>-0.095233</td>\n",
       "      <td>-0.022951</td>\n",
       "      <td>0.110271</td>\n",
       "      <td>0.051383</td>\n",
       "      <td>0.116509</td>\n",
       "      <td>0.363293</td>\n",
       "    </tr>\n",
       "  </tbody>\n",
       "</table>\n",
       "</div>"
      ],
      "text/plain": [
       "              2000_2009  1990_1999  1980_1989  1970_1979  1960_1969  \\\n",
       "sing_det       0.081682   0.082851   0.025414   0.011192  -0.027964   \n",
       "sing_att      -0.075460  -0.032738   0.031364  -0.021753  -0.007914   \n",
       "duplex        -0.351559  -0.350869  -0.283700  -0.193041   0.013700   \n",
       "three_four    -0.236247  -0.215243  -0.110320  -0.054156   0.032653   \n",
       "five_nine     -0.130479  -0.077337   0.036236   0.048848   0.064558   \n",
       "ten_nineteen  -0.068589  -0.032134   0.100188   0.081567   0.069833   \n",
       "twenty_plus   -0.149846  -0.246825  -0.095233  -0.022951   0.110271   \n",
       "\n",
       "              1950_1959  1940_1949  1939_older  \n",
       "sing_det      -0.020706  -0.060896   -0.149929  \n",
       "sing_att       0.001407   0.085172    0.081787  \n",
       "duplex         0.180006   0.468640    0.919507  \n",
       "three_four     0.056105   0.191695    0.508725  \n",
       "five_nine      0.001345   0.001261    0.073754  \n",
       "ten_nineteen  -0.023414  -0.081489   -0.095832  \n",
       "twenty_plus    0.051383   0.116509    0.363293  "
      ]
     },
     "execution_count": 10,
     "metadata": {},
     "output_type": "execute_result"
    }
   ],
   "source": [
    "(trutab - exptab)/exptab"
   ]
  },
  {
   "cell_type": "markdown",
   "metadata": {},
   "source": [
    "Looking at the individual building types, we can see that large apartment complexes were much more common before 1970, while single family homes were more common after. In particular, duplexes and three-four unit apartments were much more common before WWII, and much less common recently. "
   ]
  },
  {
   "cell_type": "code",
   "execution_count": 11,
   "metadata": {},
   "outputs": [],
   "source": [
    "bigpop = df#[df['population'] > 10000]\n",
    "mode_map = pd.concat([bigpop[age_cat].idxmax(axis=1), (bigpop['population'])/bigpop['area'], bigpop['population']], axis=1)\n",
    "mode_map.columns = ['age_mode', 'density', 'population']"
   ]
  },
  {
   "cell_type": "code",
   "execution_count": 12,
   "metadata": {
    "scrolled": true
   },
   "outputs": [
    {
     "data": {
      "image/png": "[encoded data removed]",
      "text/plain": [
       "<matplotlib.figure.Figure at 0x7f0ec2535c88>"
      ]
     },
     "metadata": {},
     "output_type": "display_data"
    }
   ],
   "source": [
    "acmap = {name: i for i, name in enumerate(age_cat)}\n",
    "ax = plt.subplot()\n",
    "ax.plot([acmap[label] for label in mode_map['age_mode']], mode_map['density'], 'o')\n",
    "plt.xticks(range(len(age_cat)), age_cat)\n",
    "ax.margins(0.1, 0)\n",
    "ax.set_xticklabels(age_cat, rotation=45)\n",
    "plt.show()"
   ]
  },
  {
   "cell_type": "code",
   "execution_count": 13,
   "metadata": {},
   "outputs": [],
   "source": [
    "rng = range(0, int(max(mode_map['density'])/100))\n",
    "mode_1930 = mode_map[mode_map['age_mode'] == '1939_older'][['density', 'population']]\n",
    "mode_1930['bin'] = pd.cut(mode_1930['density'], [i*100 for i in rng], labels = [i for i in rng[:-1]])"
   ]
  },
  {
   "cell_type": "code",
   "execution_count": 14,
   "metadata": {},
   "outputs": [],
   "source": [
    "mode_2000 = mode_map[mode_map['age_mode'] == '2000_2009'][['density', 'population']]\n",
    "mode_2000['bin'] = pd.cut(mode_2000['density'], [i*100 for i in rng], labels = [i for i in rng[:-1]])"
   ]
  },
  {
   "cell_type": "code",
   "execution_count": 15,
   "metadata": {},
   "outputs": [
    {
     "data": {
      "image/png": "[encoded data removed]",
      "text/plain": [
       "<matplotlib.figure.Figure at 0x7f0ec248e3c8>"
      ]
     },
     "metadata": {},
     "output_type": "display_data"
    }
   ],
   "source": [
    "sums_1930 = [mode_1930[mode_1930['bin']==i]['population'].sum() for i in rng]\n",
    "sums_2000 = [mode_2000[mode_2000['bin']==i]['population'].sum() for i in rng]\n",
    "plt.semilogy([i for i in rng], sums_1930, 'bx', [i for i in rng], sums_2000, 'rx')\n",
    "plt.show()"
   ]
  },
  {
   "cell_type": "code",
   "execution_count": null,
   "metadata": {},
   "outputs": [],
   "source": []
  }
 ],
 "metadata": {
  "kernelspec": {
   "display_name": "Python 3",
   "language": "python",
   "name": "python3"
  },
  "language_info": {
   "codemirror_mode": {
    "name": "ipython",
    "version": 3
   },
   "file_extension": ".py",
   "mimetype": "text/x-python",
   "name": "python",
   "nbconvert_exporter": "python",
   "pygments_lexer": "ipython3",
   "version": "3.5.2"
  }
 },
 "nbformat": 4,
 "nbformat_minor": 2
}
