{
 "cells": [
  {
   "cell_type": "markdown",
   "metadata": {},
   "source": [
    "**4.7 Part a.**"
   ]
  },
  {
   "cell_type": "code",
   "execution_count": 2,
   "metadata": {},
   "outputs": [],
   "source": [
    "import statsmodels.api as sm, numpy as np, matplotlib.pyplot as plt"
   ]
  },
  {
   "cell_type": "code",
   "execution_count": 5,
   "metadata": {},
   "outputs": [],
   "source": [
    "A = np.array([8,7,6,6,3,4,7,2,3,4])\n",
    "B = np.array([9,9,8,14,8,13,11,5,7,6])"
   ]
  },
  {
   "cell_type": "code",
   "execution_count": 6,
   "metadata": {},
   "outputs": [
    {
     "data": {
      "text/plain": [
       "(5.0, 9.0)"
      ]
     },
     "execution_count": 6,
     "metadata": {},
     "output_type": "execute_result"
    }
   ],
   "source": [
    "mu_A = np.mean(A)\n",
    "mu_B = np.mean(B)\n",
    "mu_A, mu_B"
   ]
  },
  {
   "cell_type": "code",
   "execution_count": 59,
   "metadata": {},
   "outputs": [
    {
     "data": {
      "text/plain": [
       "(array([ 8,  7,  6,  6,  3,  4,  7,  2,  3,  4,  9,  9,  8, 14,  8, 13, 11,\n",
       "         5,  7,  6]),\n",
       " array([ 0.,  0.,  0.,  0.,  0.,  0.,  0.,  0.,  0.,  0.,  1.,  1.,  1.,\n",
       "         1.,  1.,  1.,  1.,  1.,  1.,  1.]))"
      ]
     },
     "execution_count": 59,
     "metadata": {},
     "output_type": "execute_result"
    }
   ],
   "source": [
    "X = np.array(np.append(np.zeros(A.shape), np.ones(B.shape)))\n",
    "y = np.append(A, B) \n",
    "X_cons = sm.add_constant(X) # the add_constant function adds an intercept\n",
    "y, X"
   ]
  },
  {
   "cell_type": "code",
   "execution_count": 44,
   "metadata": {},
   "outputs": [
    {
     "data": {
      "text/plain": [
       "([0, 1], [5, 9])"
      ]
     },
     "execution_count": 44,
     "metadata": {},
     "output_type": "execute_result"
    }
   ],
   "source": [
    "y = [0, 1]\n",
    "X = [5, 9]\n",
    "X_cons = sm.add_constant(X)\n",
    "y,X"
   ]
  },
  {
   "cell_type": "code",
   "execution_count": 60,
   "metadata": {},
   "outputs": [
    {
     "name": "stdout",
     "output_type": "stream",
     "text": [
      "                 Generalized Linear Model Regression Results                  \n",
      "==============================================================================\n",
      "Dep. Variable:                      y   No. Observations:                   20\n",
      "Model:                            GLM   Df Residuals:                       18\n",
      "Model Family:                 Poisson   Df Model:                            1\n",
      "Link Function:                    log   Scale:                             1.0\n",
      "Method:                          IRLS   Log-Likelihood:                -45.175\n",
      "Date:                Tue, 17 Oct 2017   Deviance:                       16.268\n",
      "Time:                        13:04:45   Pearson chi2:                     16.0\n",
      "No. Iterations:                     4                                         \n",
      "==============================================================================\n",
      "                 coef    std err          z      P>|z|      [0.025      0.975]\n",
      "------------------------------------------------------------------------------\n",
      "const          1.6094      0.141     11.380      0.000       1.332       1.887\n",
      "x1             0.5878      0.176      3.332      0.001       0.242       0.933\n",
      "==============================================================================\n"
     ]
    }
   ],
   "source": [
    "results = sm.GLM(y, X_cons, family = sm.families.Poisson()).fit() # log link is cannonical for Poisson()\n",
    "print(results.summary())"
   ]
  },
  {
   "cell_type": "code",
   "execution_count": 66,
   "metadata": {},
   "outputs": [
    {
     "data": {
      "image/png": "[encoded data removed]",
      "text/plain": [
       "<matplotlib.figure.Figure at 0x7f0ec9f1efd0>"
      ]
     },
     "metadata": {},
     "output_type": "display_data"
    }
   ],
   "source": [
    "plt.plot(X, y, 'bx', X, results.predict(X_cons), 'r-') # observations in blue, predictions in red\n",
    "plt.show()"
   ]
  },
  {
   "cell_type": "code",
   "execution_count": 64,
   "metadata": {},
   "outputs": [
    {
     "data": {
      "text/plain": [
       "(1.7999999999999938, 1.8)"
      ]
     },
     "execution_count": 64,
     "metadata": {},
     "output_type": "execute_result"
    }
   ],
   "source": [
    "np.exp(results.params[1]), mu_B/mu_A, # results.params[1] is the slope, beta_hat"
   ]
  },
  {
   "cell_type": "markdown",
   "metadata": {},
   "source": [
    "Since there are only two categories of a single explanatory variable, the solution becomes a linear regression between the mean of the variables in each category. If the identity link were being used, then the ratio $\\frac{\\mu_B}{\\mu_A}$ would be equal to the slope ($\\hat{\\beta}$). Since we are using a log link, then $\\hat{\\beta} = \\log\\left(\\frac{\\mu_B}{\\mu_A}\\right)$. Since the one unit change of the explanatory variable is the difference between the two categories of treatment, an interpretation would be that treatment B is expected to have $\\exp(\\hat{\\beta}) = 1.8$ times as many imprefections as treatment A."
   ]
  },
  {
   "cell_type": "markdown",
   "metadata": {},
   "source": [
    "**part b.**"
   ]
  },
  {
   "cell_type": "markdown",
   "metadata": {},
   "source": [
    "If $H_0: \\mu_A = \\mu_B$ is true, then $\\mu_B/\\mu_A = 1$. Since $exp(\\beta) = \\mu_B/\\mu_A$, then $\\exp(\\beta) = 1$ and $\\beta = 0$. Therefore, a test of $H_0: \\beta = 0$ is equivalent. "
   ]
  },
  {
   "cell_type": "markdown",
   "metadata": {},
   "source": [
    "The coefficient for $\\hat{\\beta} = 0.5878$ and standard error is 0.176, according to the regression summary from part a. The difference between the test statistic and the null hypothesis value $\\left(\\frac{\\hat{\\beta}-0}{SE(\\hat{\\beta})}\\right)$ can be compared to the normal distribution to get the z-score of 3.332 as given in part a. The p-value for this z-score is 0.001. From this low p-score we can reject the null hypothesis ($H_0: \\mu_A = \\mu_B$) with high confidence."
   ]
  },
  {
   "cell_type": "markdown",
   "metadata": {},
   "source": [
    "**part c.**"
   ]
  },
  {
   "cell_type": "markdown",
   "metadata": {},
   "source": [
    "The 95% confidence interval for $\\hat{\\beta}$ is given in the regression results summary as $[0.242, 0.933]$. Since $exp(\\beta) = \\mu_B/\\mu_A$, a 95% interval for $ \\mu_B/\\mu_A$ can be given by"
   ]
  },
  {
   "cell_type": "code",
   "execution_count": 67,
   "metadata": {},
   "outputs": [
    {
     "data": {
      "text/plain": [
       "(1.2737941928161949, 2.5421241218558581)"
      ]
     },
     "execution_count": 67,
     "metadata": {},
     "output_type": "execute_result"
    }
   ],
   "source": [
    "np.exp(0.242), np.exp(0.933)"
   ]
  },
  {
   "cell_type": "markdown",
   "metadata": {},
   "source": [
    "**part d.**"
   ]
  },
  {
   "cell_type": "markdown",
   "metadata": {},
   "source": [
    "Both treatment A and treatment B are independent Poisson variates ($Y_1$ and $Y_2$, respectively) with means $\\mu_1 = 5, \\mu_2 = 9$. Let n = len($Y_1$) + len($Y_2$) = 20, then $Y_1$ ~ $\\text{binomial}(\\left(20, 5/14\\right)$ and $Y_2$ ~ $\\text{binomial}(\\left(20, 9/14\\right)$. Let $\\bar{Y_1}$ and $\\bar{Y_2}$ designate the sample means of these two binomial distributions, while $\\text{Var}(Y_1)$ and $\\text{Var}(Y_2)$ are the sample variances."
   ]
  },
  {
   "cell_type": "code",
   "execution_count": 70,
   "metadata": {},
   "outputs": [
    {
     "data": {
      "text/plain": [
       "(7.142857142857143, 2.5510204081632653, 12.857142857142858, 0.9183673469387755)"
      ]
     },
     "execution_count": 70,
     "metadata": {},
     "output_type": "execute_result"
    }
   ],
   "source": [
    "y1, s1, y2, s2 = 20*5/14, 20*(5/14)**2, 20*9/14, 20*(9/14**2) # Sample mean and variance for treatments A and B\n",
    "y1, s1, y2, s2"
   ]
  },
  {
   "cell_type": "markdown",
   "metadata": {},
   "source": [
    "A hypothesis test of $H_0: \\mu_A = \\mu_B$ becomes equivalent to $H_0: E(y_1) = E(y_2)$. This is a two sample problem of the sort for which the t-test is commonly used. We have no evidence to support the assumptions that variances of the two samples are equal, so Welch's t-test would be an appropriate method of testing. A two sided t-test should be used"
   ]
  },
  {
   "cell_type": "markdown",
   "metadata": {},
   "source": [
    "Welch's t-test defines a statistic $t = \\frac{\\bar{Y_1} - \\bar{Y_2}}{\\sqrt{\\frac{s_1^2}{n_1}+\\frac{s_2^2}{n_2}}}$. "
   ]
  },
  {
   "cell_type": "markdown",
   "metadata": {},
   "source": [
    "Degrees of freedom are estimated by $v = \\frac{\\left(\\frac{s_1^2}{n_1}+\\frac{s_2^2}{n_2}\\right)^2}{\\frac{(s_1^2/n_1)^2}{n_1-1}+\\frac{(s2^2/n_2)^2}{n_2-1}}$."
   ]
  },
  {
   "cell_type": "code",
   "execution_count": 75,
   "metadata": {},
   "outputs": [
    {
     "data": {
      "text/plain": [
       "(-6.6647778249609084, 11.294265155368011)"
      ]
     },
     "execution_count": 75,
     "metadata": {},
     "output_type": "execute_result"
    }
   ],
   "source": [
    "t_stat, df = (y1-y2)/np.sqrt(s1**2/10+s2**2/10), (s1**2/10+s2**2/10)**2/((s1**2/10)**2/9+(s2**2/10)**2/9)\n",
    "t_stat, df"
   ]
  },
  {
   "cell_type": "code",
   "execution_count": 78,
   "metadata": {},
   "outputs": [
    {
     "data": {
      "text/plain": [
       "1.5561061832350494e-05"
      ]
     },
     "execution_count": 78,
     "metadata": {},
     "output_type": "execute_result"
    }
   ],
   "source": [
    "from scipy.stats import t\n",
    "t.cdf(t_stat, df)*2 #p-value for two sided t-test"
   ]
  },
  {
   "cell_type": "markdown",
   "metadata": {},
   "source": [
    "Given the very small p value, we once again reject the null hypothesis that the means of treatments A and B are equal."
   ]
  }
 ],
 "metadata": {
  "kernelspec": {
   "display_name": "Python 3",
   "language": "python",
   "name": "python3"
  },
  "language_info": {
   "codemirror_mode": {
    "name": "ipython",
    "version": 3
   },
   "file_extension": ".py",
   "mimetype": "text/x-python",
   "name": "python",
   "nbconvert_exporter": "python",
   "pygments_lexer": "ipython3",
   "version": "3.5.2"
  }
 },
 "nbformat": 4,
 "nbformat_minor": 2
}
